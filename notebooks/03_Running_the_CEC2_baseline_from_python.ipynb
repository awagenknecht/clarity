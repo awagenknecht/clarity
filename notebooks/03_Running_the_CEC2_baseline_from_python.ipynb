{
 "cells": [
  {
   "cell_type": "markdown",
   "metadata": {
    "id": "4DPiB7WXx2hf"
   },
   "source": [
    "# Generating Baseline HASPI Scores\n",
    "\n",
    "The Clarity Enhancement Challenge 2 (CEC2) comes with a simple baseline system against which you can compare your own system's performance. \n",
    "\n",
    "The baseline system has two stages:\n",
    "\n",
    "- **NALR amplification**: Hearing aid amplification using a listener's audiogram and the NALR prescription. \n",
    "- **A compressor**: An automatic gain control (AGC) and compression stage that will output to 16 bit audio without clipping. \n",
    "  \n",
    "Note, this is a very simple baseline designed to act as a starting point, e.g., there is no explicit noise-cancellation front end. \n",
    "\n",
    "Once signals have been processed by the baseline system they can be evaluated using the standard HASPI metric. \n",
    "\n",
    "Recipes (i.e. Python scripts) are provided to allow you to easily process and evaluate the complete development set. These receipes have commandline interfaces and can be found at,\n",
    "\n",
    "```\n",
    "clarity/recipes/cec2/baseline/enhance.py\n",
    "clarity/recipes/cec2/baseline/evaluate.py\n",
    "```\n",
    "\n",
    "This tutorial will walk through the steps being performed in these recipes. We will be using a demo data subset of the full Clarity data, and loading and calling the modules that are invoked in the recipe scripts."
   ]
  },
  {
   "cell_type": "markdown",
   "metadata": {
    "id": "s5QAdrSX_q0i"
   },
   "source": [
    "### Install dependencies\n",
    "\n",
    "We first need to install the Clarity package."
   ]
  },
  {
   "cell_type": "code",
   "metadata": {
    "id": "stjvW8ON_q0j",
    "ExecuteTime": {
     "end_time": "2024-05-30T10:04:31.273462Z",
     "start_time": "2024-05-30T10:04:18.006075Z"
    }
   },
   "source": [
    "print(\"Cloning git repo...\")\n",
    "\n",
    "!git clone --quiet https://github.com/claritychallenge/clarity.git\n",
    "%cd clarity\n",
    "%pip install -e .\n",
    "import os\n",
    "import sys\n",
    "\n",
    "sys.path.append(os.getcwd())\n",
    "%cd .."
   ],
   "outputs": [
    {
     "name": "stdout",
     "output_type": "stream",
     "text": [
      "Cloning git repo...\n",
      "/home/gerardoroadabike/Extended/Projects/clarity/notebooks/clarity\n"
     ]
    },
    {
     "name": "stderr",
     "output_type": "stream",
     "text": [
      "/home/gerardoroadabike/anaconda3/envs/clarity39/lib/python3.10/site-packages/IPython/core/magics/osm.py:417: UserWarning: This is now an optional IPython functionality, setting dhist requires you to install the `pickleshare` library.\n",
      "  self.shell.db['dhist'] = compress_dhist(dhist)[-100:]\n"
     ]
    },
    {
     "name": "stdout",
     "output_type": "stream",
     "text": [
      "Obtaining file:///home/gerardoroadabike/Extended/Projects/clarity/notebooks/clarity\r\n",
      "  Installing build dependencies ... \u001B[?25ldone\r\n",
      "\u001B[?25h  Checking if build backend supports build_editable ... \u001B[?25ldone\r\n",
      "\u001B[?25h  Getting requirements to build editable ... \u001B[?25ldone\r\n",
      "\u001B[?25h  Preparing editable metadata (pyproject.toml) ... \u001B[?25ldone\r\n",
      "\u001B[?25hRequirement already satisfied: audioread>=2.1.9 in /home/gerardoroadabike/anaconda3/envs/clarity39/lib/python3.10/site-packages (from pyclarity==0.5.1) (3.0.1)\r\n",
      "Requirement already satisfied: gdown in /home/gerardoroadabike/anaconda3/envs/clarity39/lib/python3.10/site-packages (from pyclarity==0.5.1) (5.0.1)\r\n",
      "Requirement already satisfied: hydra-core>=1.1.1 in /home/gerardoroadabike/anaconda3/envs/clarity39/lib/python3.10/site-packages (from pyclarity==0.5.1) (1.3.2)\r\n",
      "Requirement already satisfied: hydra-submitit-launcher>=1.1.6 in /home/gerardoroadabike/anaconda3/envs/clarity39/lib/python3.10/site-packages (from pyclarity==0.5.1) (1.2.0)\r\n",
      "Requirement already satisfied: importlib-metadata in /home/gerardoroadabike/anaconda3/envs/clarity39/lib/python3.10/site-packages (from pyclarity==0.5.1) (7.0.1)\r\n",
      "Requirement already satisfied: librosa>=0.8.1 in /home/gerardoroadabike/anaconda3/envs/clarity39/lib/python3.10/site-packages (from pyclarity==0.5.1) (0.10.1)\r\n",
      "Requirement already satisfied: matplotlib in /home/gerardoroadabike/anaconda3/envs/clarity39/lib/python3.10/site-packages (from pyclarity==0.5.1) (3.7.0)\r\n",
      "Requirement already satisfied: numba>=0.57.0rc in /home/gerardoroadabike/anaconda3/envs/clarity39/lib/python3.10/site-packages (from pyclarity==0.5.1) (0.59.0rc1)\r\n",
      "Requirement already satisfied: numpy>=1.21.6 in /home/gerardoroadabike/anaconda3/envs/clarity39/lib/python3.10/site-packages (from pyclarity==0.5.1) (1.26.3)\r\n",
      "Requirement already satisfied: omegaconf>=2.1.1 in /home/gerardoroadabike/anaconda3/envs/clarity39/lib/python3.10/site-packages (from pyclarity==0.5.1) (2.3.0)\r\n",
      "Requirement already satisfied: pandas>=1.3.5 in /home/gerardoroadabike/anaconda3/envs/clarity39/lib/python3.10/site-packages (from pyclarity==0.5.1) (2.2.0)\r\n",
      "Requirement already satisfied: pyflac in /home/gerardoroadabike/anaconda3/envs/clarity39/lib/python3.10/site-packages (from pyclarity==0.5.1) (2.2.0)\r\n",
      "Requirement already satisfied: pyloudnorm>=0.1.0 in /home/gerardoroadabike/anaconda3/envs/clarity39/lib/python3.10/site-packages (from pyclarity==0.5.1) (0.1.1)\r\n",
      "Requirement already satisfied: pystoi in /home/gerardoroadabike/anaconda3/envs/clarity39/lib/python3.10/site-packages (from pyclarity==0.5.1) (0.4.1)\r\n",
      "Requirement already satisfied: pytorch-lightning in /home/gerardoroadabike/anaconda3/envs/clarity39/lib/python3.10/site-packages (from pyclarity==0.5.1) (2.1.3)\r\n",
      "Requirement already satisfied: resampy in /home/gerardoroadabike/anaconda3/envs/clarity39/lib/python3.10/site-packages (from pyclarity==0.5.1) (0.4.2)\r\n",
      "Requirement already satisfied: scikit-learn>=1.0.2 in /home/gerardoroadabike/anaconda3/envs/clarity39/lib/python3.10/site-packages (from pyclarity==0.5.1) (1.4.0)\r\n",
      "Requirement already satisfied: scipy<1.13.0,>=1.7.3 in /home/gerardoroadabike/anaconda3/envs/clarity39/lib/python3.10/site-packages (from pyclarity==0.5.1) (1.12.0)\r\n",
      "Requirement already satisfied: SoundFile>=0.10.3.post1 in /home/gerardoroadabike/anaconda3/envs/clarity39/lib/python3.10/site-packages (from pyclarity==0.5.1) (0.12.1)\r\n",
      "Requirement already satisfied: soxr in /home/gerardoroadabike/anaconda3/envs/clarity39/lib/python3.10/site-packages (from pyclarity==0.5.1) (0.3.7)\r\n",
      "Requirement already satisfied: torch>=2 in /home/gerardoroadabike/anaconda3/envs/clarity39/lib/python3.10/site-packages (from pyclarity==0.5.1) (2.1.2)\r\n",
      "Requirement already satisfied: torchaudio in /home/gerardoroadabike/anaconda3/envs/clarity39/lib/python3.10/site-packages (from pyclarity==0.5.1) (2.1.2)\r\n",
      "Requirement already satisfied: tqdm>=4.62.3 in /home/gerardoroadabike/anaconda3/envs/clarity39/lib/python3.10/site-packages (from pyclarity==0.5.1) (4.66.1)\r\n",
      "Requirement already satisfied: typing-extensions in /home/gerardoroadabike/anaconda3/envs/clarity39/lib/python3.10/site-packages (from pyclarity==0.5.1) (4.9.0)\r\n",
      "Requirement already satisfied: antlr4-python3-runtime==4.9.* in /home/gerardoroadabike/anaconda3/envs/clarity39/lib/python3.10/site-packages (from hydra-core>=1.1.1->pyclarity==0.5.1) (4.9.3)\r\n",
      "Requirement already satisfied: packaging in /home/gerardoroadabike/anaconda3/envs/clarity39/lib/python3.10/site-packages (from hydra-core>=1.1.1->pyclarity==0.5.1) (23.2)\r\n",
      "Requirement already satisfied: submitit>=1.3.3 in /home/gerardoroadabike/anaconda3/envs/clarity39/lib/python3.10/site-packages (from hydra-submitit-launcher>=1.1.6->pyclarity==0.5.1) (1.5.1)\r\n",
      "Requirement already satisfied: joblib>=0.14 in /home/gerardoroadabike/anaconda3/envs/clarity39/lib/python3.10/site-packages (from librosa>=0.8.1->pyclarity==0.5.1) (1.3.2)\r\n",
      "Requirement already satisfied: decorator>=4.3.0 in /home/gerardoroadabike/anaconda3/envs/clarity39/lib/python3.10/site-packages (from librosa>=0.8.1->pyclarity==0.5.1) (5.1.1)\r\n",
      "Requirement already satisfied: pooch>=1.0 in /home/gerardoroadabike/anaconda3/envs/clarity39/lib/python3.10/site-packages (from librosa>=0.8.1->pyclarity==0.5.1) (1.8.0)\r\n",
      "Requirement already satisfied: lazy-loader>=0.1 in /home/gerardoroadabike/anaconda3/envs/clarity39/lib/python3.10/site-packages (from librosa>=0.8.1->pyclarity==0.5.1) (0.3)\r\n",
      "Requirement already satisfied: msgpack>=1.0 in /home/gerardoroadabike/anaconda3/envs/clarity39/lib/python3.10/site-packages (from librosa>=0.8.1->pyclarity==0.5.1) (1.0.7)\r\n",
      "Requirement already satisfied: llvmlite<0.43,>=0.42.0dev0 in /home/gerardoroadabike/anaconda3/envs/clarity39/lib/python3.10/site-packages (from numba>=0.57.0rc->pyclarity==0.5.1) (0.42.0rc1)\r\n",
      "Requirement already satisfied: PyYAML>=5.1.0 in /home/gerardoroadabike/anaconda3/envs/clarity39/lib/python3.10/site-packages (from omegaconf>=2.1.1->pyclarity==0.5.1) (6.0.1)\r\n",
      "Requirement already satisfied: python-dateutil>=2.8.2 in /home/gerardoroadabike/anaconda3/envs/clarity39/lib/python3.10/site-packages (from pandas>=1.3.5->pyclarity==0.5.1) (2.8.2)\r\n",
      "Requirement already satisfied: pytz>=2020.1 in /home/gerardoroadabike/anaconda3/envs/clarity39/lib/python3.10/site-packages (from pandas>=1.3.5->pyclarity==0.5.1) (2023.4)\r\n",
      "Requirement already satisfied: tzdata>=2022.7 in /home/gerardoroadabike/anaconda3/envs/clarity39/lib/python3.10/site-packages (from pandas>=1.3.5->pyclarity==0.5.1) (2023.4)\r\n",
      "Requirement already satisfied: future>=0.16.0 in /home/gerardoroadabike/anaconda3/envs/clarity39/lib/python3.10/site-packages (from pyloudnorm>=0.1.0->pyclarity==0.5.1) (0.18.3)\r\n",
      "Requirement already satisfied: threadpoolctl>=2.0.0 in /home/gerardoroadabike/anaconda3/envs/clarity39/lib/python3.10/site-packages (from scikit-learn>=1.0.2->pyclarity==0.5.1) (3.2.0)\r\n",
      "Requirement already satisfied: cffi>=1.0 in /home/gerardoroadabike/anaconda3/envs/clarity39/lib/python3.10/site-packages (from SoundFile>=0.10.3.post1->pyclarity==0.5.1) (1.16.0)\r\n",
      "Requirement already satisfied: filelock in /home/gerardoroadabike/anaconda3/envs/clarity39/lib/python3.10/site-packages (from torch>=2->pyclarity==0.5.1) (3.13.1)\r\n",
      "Requirement already satisfied: sympy in /home/gerardoroadabike/anaconda3/envs/clarity39/lib/python3.10/site-packages (from torch>=2->pyclarity==0.5.1) (1.12)\r\n",
      "Requirement already satisfied: networkx in /home/gerardoroadabike/anaconda3/envs/clarity39/lib/python3.10/site-packages (from torch>=2->pyclarity==0.5.1) (3.2.1)\r\n",
      "Requirement already satisfied: jinja2 in /home/gerardoroadabike/anaconda3/envs/clarity39/lib/python3.10/site-packages (from torch>=2->pyclarity==0.5.1) (3.1.3)\r\n",
      "Requirement already satisfied: fsspec in /home/gerardoroadabike/anaconda3/envs/clarity39/lib/python3.10/site-packages (from torch>=2->pyclarity==0.5.1) (2023.12.2)\r\n",
      "Requirement already satisfied: nvidia-cuda-nvrtc-cu12==12.1.105 in /home/gerardoroadabike/anaconda3/envs/clarity39/lib/python3.10/site-packages (from torch>=2->pyclarity==0.5.1) (12.1.105)\r\n",
      "Requirement already satisfied: nvidia-cuda-runtime-cu12==12.1.105 in /home/gerardoroadabike/anaconda3/envs/clarity39/lib/python3.10/site-packages (from torch>=2->pyclarity==0.5.1) (12.1.105)\r\n",
      "Requirement already satisfied: nvidia-cuda-cupti-cu12==12.1.105 in /home/gerardoroadabike/anaconda3/envs/clarity39/lib/python3.10/site-packages (from torch>=2->pyclarity==0.5.1) (12.1.105)\r\n",
      "Requirement already satisfied: nvidia-cudnn-cu12==8.9.2.26 in /home/gerardoroadabike/anaconda3/envs/clarity39/lib/python3.10/site-packages (from torch>=2->pyclarity==0.5.1) (8.9.2.26)\r\n",
      "Requirement already satisfied: nvidia-cublas-cu12==12.1.3.1 in /home/gerardoroadabike/anaconda3/envs/clarity39/lib/python3.10/site-packages (from torch>=2->pyclarity==0.5.1) (12.1.3.1)\r\n",
      "Requirement already satisfied: nvidia-cufft-cu12==11.0.2.54 in /home/gerardoroadabike/anaconda3/envs/clarity39/lib/python3.10/site-packages (from torch>=2->pyclarity==0.5.1) (11.0.2.54)\r\n",
      "Requirement already satisfied: nvidia-curand-cu12==10.3.2.106 in /home/gerardoroadabike/anaconda3/envs/clarity39/lib/python3.10/site-packages (from torch>=2->pyclarity==0.5.1) (10.3.2.106)\r\n",
      "Requirement already satisfied: nvidia-cusolver-cu12==11.4.5.107 in /home/gerardoroadabike/anaconda3/envs/clarity39/lib/python3.10/site-packages (from torch>=2->pyclarity==0.5.1) (11.4.5.107)\r\n",
      "Requirement already satisfied: nvidia-cusparse-cu12==12.1.0.106 in /home/gerardoroadabike/anaconda3/envs/clarity39/lib/python3.10/site-packages (from torch>=2->pyclarity==0.5.1) (12.1.0.106)\r\n",
      "Requirement already satisfied: nvidia-nccl-cu12==2.18.1 in /home/gerardoroadabike/anaconda3/envs/clarity39/lib/python3.10/site-packages (from torch>=2->pyclarity==0.5.1) (2.18.1)\r\n",
      "Requirement already satisfied: nvidia-nvtx-cu12==12.1.105 in /home/gerardoroadabike/anaconda3/envs/clarity39/lib/python3.10/site-packages (from torch>=2->pyclarity==0.5.1) (12.1.105)\r\n",
      "Requirement already satisfied: triton==2.1.0 in /home/gerardoroadabike/anaconda3/envs/clarity39/lib/python3.10/site-packages (from torch>=2->pyclarity==0.5.1) (2.1.0)\r\n",
      "Requirement already satisfied: nvidia-nvjitlink-cu12 in /home/gerardoroadabike/anaconda3/envs/clarity39/lib/python3.10/site-packages (from nvidia-cusolver-cu12==11.4.5.107->torch>=2->pyclarity==0.5.1) (12.3.101)\r\n",
      "Requirement already satisfied: beautifulsoup4 in /home/gerardoroadabike/anaconda3/envs/clarity39/lib/python3.10/site-packages (from gdown->pyclarity==0.5.1) (4.12.3)\r\n",
      "Requirement already satisfied: requests[socks] in /home/gerardoroadabike/anaconda3/envs/clarity39/lib/python3.10/site-packages (from gdown->pyclarity==0.5.1) (2.31.0)\r\n",
      "Requirement already satisfied: zipp>=0.5 in /home/gerardoroadabike/anaconda3/envs/clarity39/lib/python3.10/site-packages (from importlib-metadata->pyclarity==0.5.1) (3.17.0)\r\n",
      "Requirement already satisfied: contourpy>=1.0.1 in /home/gerardoroadabike/anaconda3/envs/clarity39/lib/python3.10/site-packages (from matplotlib->pyclarity==0.5.1) (1.2.0)\r\n",
      "Requirement already satisfied: cycler>=0.10 in /home/gerardoroadabike/anaconda3/envs/clarity39/lib/python3.10/site-packages (from matplotlib->pyclarity==0.5.1) (0.12.1)\r\n",
      "Requirement already satisfied: fonttools>=4.22.0 in /home/gerardoroadabike/anaconda3/envs/clarity39/lib/python3.10/site-packages (from matplotlib->pyclarity==0.5.1) (4.47.2)\r\n",
      "Requirement already satisfied: kiwisolver>=1.0.1 in /home/gerardoroadabike/anaconda3/envs/clarity39/lib/python3.10/site-packages (from matplotlib->pyclarity==0.5.1) (1.4.5)\r\n",
      "Requirement already satisfied: pillow>=6.2.0 in /home/gerardoroadabike/anaconda3/envs/clarity39/lib/python3.10/site-packages (from matplotlib->pyclarity==0.5.1) (10.2.0)\r\n",
      "Requirement already satisfied: pyparsing>=2.3.1 in /home/gerardoroadabike/anaconda3/envs/clarity39/lib/python3.10/site-packages (from matplotlib->pyclarity==0.5.1) (3.1.1)\r\n",
      "Requirement already satisfied: torchmetrics>=0.7.0 in /home/gerardoroadabike/anaconda3/envs/clarity39/lib/python3.10/site-packages (from pytorch-lightning->pyclarity==0.5.1) (0.11.4)\r\n",
      "Requirement already satisfied: lightning-utilities>=0.8.0 in /home/gerardoroadabike/anaconda3/envs/clarity39/lib/python3.10/site-packages (from pytorch-lightning->pyclarity==0.5.1) (0.10.1)\r\n",
      "Requirement already satisfied: pycparser in /home/gerardoroadabike/anaconda3/envs/clarity39/lib/python3.10/site-packages (from cffi>=1.0->SoundFile>=0.10.3.post1->pyclarity==0.5.1) (2.21)\r\n",
      "Requirement already satisfied: aiohttp!=4.0.0a0,!=4.0.0a1 in /home/gerardoroadabike/anaconda3/envs/clarity39/lib/python3.10/site-packages (from fsspec->torch>=2->pyclarity==0.5.1) (3.9.2)\r\n",
      "Requirement already satisfied: setuptools in /home/gerardoroadabike/anaconda3/envs/clarity39/lib/python3.10/site-packages (from lightning-utilities>=0.8.0->pytorch-lightning->pyclarity==0.5.1) (69.0.3)\r\n",
      "Requirement already satisfied: platformdirs>=2.5.0 in /home/gerardoroadabike/anaconda3/envs/clarity39/lib/python3.10/site-packages (from pooch>=1.0->librosa>=0.8.1->pyclarity==0.5.1) (3.11.0)\r\n",
      "Requirement already satisfied: six>=1.5 in /home/gerardoroadabike/anaconda3/envs/clarity39/lib/python3.10/site-packages (from python-dateutil>=2.8.2->pandas>=1.3.5->pyclarity==0.5.1) (1.16.0)\r\n",
      "Requirement already satisfied: cloudpickle>=1.2.1 in /home/gerardoroadabike/anaconda3/envs/clarity39/lib/python3.10/site-packages (from submitit>=1.3.3->hydra-submitit-launcher>=1.1.6->pyclarity==0.5.1) (3.0.0)\r\n",
      "Requirement already satisfied: soupsieve>1.2 in /home/gerardoroadabike/anaconda3/envs/clarity39/lib/python3.10/site-packages (from beautifulsoup4->gdown->pyclarity==0.5.1) (2.5)\r\n",
      "Requirement already satisfied: MarkupSafe>=2.0 in /home/gerardoroadabike/anaconda3/envs/clarity39/lib/python3.10/site-packages (from jinja2->torch>=2->pyclarity==0.5.1) (2.1.4)\r\n",
      "Requirement already satisfied: charset-normalizer<4,>=2 in /home/gerardoroadabike/anaconda3/envs/clarity39/lib/python3.10/site-packages (from requests[socks]->gdown->pyclarity==0.5.1) (3.3.2)\r\n",
      "Requirement already satisfied: idna<4,>=2.5 in /home/gerardoroadabike/anaconda3/envs/clarity39/lib/python3.10/site-packages (from requests[socks]->gdown->pyclarity==0.5.1) (3.6)\r\n",
      "Requirement already satisfied: urllib3<3,>=1.21.1 in /home/gerardoroadabike/anaconda3/envs/clarity39/lib/python3.10/site-packages (from requests[socks]->gdown->pyclarity==0.5.1) (2.1.0)\r\n",
      "Requirement already satisfied: certifi>=2017.4.17 in /home/gerardoroadabike/anaconda3/envs/clarity39/lib/python3.10/site-packages (from requests[socks]->gdown->pyclarity==0.5.1) (2023.11.17)\r\n",
      "Requirement already satisfied: PySocks!=1.5.7,>=1.5.6 in /home/gerardoroadabike/anaconda3/envs/clarity39/lib/python3.10/site-packages (from requests[socks]->gdown->pyclarity==0.5.1) (1.7.1)\r\n",
      "Requirement already satisfied: mpmath>=0.19 in /home/gerardoroadabike/anaconda3/envs/clarity39/lib/python3.10/site-packages (from sympy->torch>=2->pyclarity==0.5.1) (1.3.0)\r\n",
      "Requirement already satisfied: aiosignal>=1.1.2 in /home/gerardoroadabike/anaconda3/envs/clarity39/lib/python3.10/site-packages (from aiohttp!=4.0.0a0,!=4.0.0a1->fsspec->torch>=2->pyclarity==0.5.1) (1.3.1)\r\n",
      "Requirement already satisfied: attrs>=17.3.0 in /home/gerardoroadabike/anaconda3/envs/clarity39/lib/python3.10/site-packages (from aiohttp!=4.0.0a0,!=4.0.0a1->fsspec->torch>=2->pyclarity==0.5.1) (23.2.0)\r\n",
      "Requirement already satisfied: frozenlist>=1.1.1 in /home/gerardoroadabike/anaconda3/envs/clarity39/lib/python3.10/site-packages (from aiohttp!=4.0.0a0,!=4.0.0a1->fsspec->torch>=2->pyclarity==0.5.1) (1.4.1)\r\n",
      "Requirement already satisfied: multidict<7.0,>=4.5 in /home/gerardoroadabike/anaconda3/envs/clarity39/lib/python3.10/site-packages (from aiohttp!=4.0.0a0,!=4.0.0a1->fsspec->torch>=2->pyclarity==0.5.1) (6.0.4)\r\n",
      "Requirement already satisfied: yarl<2.0,>=1.0 in /home/gerardoroadabike/anaconda3/envs/clarity39/lib/python3.10/site-packages (from aiohttp!=4.0.0a0,!=4.0.0a1->fsspec->torch>=2->pyclarity==0.5.1) (1.9.4)\r\n",
      "Requirement already satisfied: async-timeout<5.0,>=4.0 in /home/gerardoroadabike/anaconda3/envs/clarity39/lib/python3.10/site-packages (from aiohttp!=4.0.0a0,!=4.0.0a1->fsspec->torch>=2->pyclarity==0.5.1) (4.0.3)\r\n",
      "Building wheels for collected packages: pyclarity\r\n",
      "  Building editable for pyclarity (pyproject.toml) ... \u001B[?25ldone\r\n",
      "\u001B[?25h  Created wheel for pyclarity: filename=pyclarity-0.5.1-0.editable-py3-none-any.whl size=7168 sha256=1b85510509abfa93f619df1babcd6f493963a3c7bddd64d98bc8bef2642682c0\r\n",
      "  Stored in directory: /tmp/pip-ephem-wheel-cache-1ix2vuc2/wheels/d4/08/25/42e0b055deecd2364c776bc5bbdbf6860ad33ba11b3d402ad9\r\n",
      "Successfully built pyclarity\r\n",
      "Installing collected packages: pyclarity\r\n",
      "  Attempting uninstall: pyclarity\r\n",
      "    Found existing installation: pyclarity 0.5.1.post23\r\n",
      "    Can't uninstall 'pyclarity'. No files were found to uninstall.\r\n",
      "Successfully installed pyclarity-0.5.1\r\n",
      "Note: you may need to restart the kernel to use updated packages.\n",
      "/home/gerardoroadabike/Extended/Projects/clarity/notebooks\n"
     ]
    }
   ],
   "execution_count": 1
  },
  {
   "cell_type": "markdown",
   "metadata": {
    "id": "NO6DLLDM_q0m"
   },
   "source": [
    "### Install demo data\n",
    "\n",
    "We will be using scene audio and associated metadata. This can be downloaded using the Clarity package's `demo_data` module."
   ]
  },
  {
   "cell_type": "code",
   "metadata": {
    "id": "d_AtYPIuxwDD",
    "ExecuteTime": {
     "end_time": "2024-05-30T10:04:50.896578Z",
     "start_time": "2024-05-30T10:04:31.275871Z"
    }
   },
   "source": [
    "from clarity.data import demo_data\n",
    "\n",
    "demo_data.get_metadata_demo()\n",
    "demo_data.get_scenes_demo()"
   ],
   "outputs": [
    {
     "name": "stderr",
     "output_type": "stream",
     "text": [
      "Downloading...\n",
      "From: https://drive.google.com/uc?export=download&id=14KGm2GaRgwlrZvtmMwWTYu7itaRVQV8f\n",
      "To: /home/gerardoroadabike/Extended/Projects/clarity/notebooks/data.tgz\n",
      "100%|██████████| 676k/676k [00:00<00:00, 20.5MB/s]\n"
     ]
    },
    {
     "name": "stdout",
     "output_type": "stream",
     "text": [
      "metadata/hrir_data.json\n",
      "metadata/listeners.json\n",
      "metadata/masker_music_list.json\n",
      "metadata/masker_nonspeech_list.demo.json\n",
      "metadata/masker_speech_list.demo.json\n",
      "metadata/rooms.demo.json\n",
      "metadata/scenes.demo.json\n",
      "metadata/scenes_listeners.demo.json\n",
      "metadata/scenes_listeners.dev.json\n",
      "metadata/target_speech_list.json\n"
     ]
    },
    {
     "name": "stderr",
     "output_type": "stream",
     "text": [
      "Downloading...\n",
      "From (original): https://drive.google.com/uc?export=download&id=1PB0CfGXhpkYNk8HbE5lTWowm2016x6Hl\n",
      "From (redirected): https://drive.google.com/uc?export=download&id=1PB0CfGXhpkYNk8HbE5lTWowm2016x6Hl&confirm=t&uuid=10a19706-dd10-4a57-a7ae-1b4d7f1952b0\n",
      "To: /home/gerardoroadabike/Extended/Projects/clarity/notebooks/data.tgz\n",
      "100%|██████████| 445M/445M [00:08<00:00, 51.1MB/s] \n"
     ]
    },
    {
     "name": "stdout",
     "output_type": "stream",
     "text": [
      "scenes/S06001_hr.wav\n",
      "scenes/S06001_interferer_CH0.wav\n",
      "scenes/S06001_interferer_CH1.wav\n",
      "scenes/S06001_interferer_CH2.wav\n",
      "scenes/S06001_interferer_CH3.wav\n",
      "scenes/S06001_mix_CH0.wav\n",
      "scenes/S06001_mix_CH1.wav\n",
      "scenes/S06001_mix_CH2.wav\n",
      "scenes/S06001_mix_CH3.wav\n",
      "scenes/S06001_target_CH0.wav\n",
      "scenes/S06001_target_CH1.wav\n",
      "scenes/S06001_target_CH2.wav\n",
      "scenes/S06001_target_CH3.wav\n",
      "scenes/S06001_target_anechoic_CH1.wav\n",
      "scenes/S06002_hr.wav\n",
      "scenes/S06002_interferer_CH0.wav\n",
      "scenes/S06002_interferer_CH1.wav\n",
      "scenes/S06002_interferer_CH2.wav\n",
      "scenes/S06002_interferer_CH3.wav\n",
      "scenes/S06002_mix_CH0.wav\n",
      "scenes/S06002_mix_CH1.wav\n",
      "scenes/S06002_mix_CH2.wav\n",
      "scenes/S06002_mix_CH3.wav\n",
      "scenes/S06002_target_CH0.wav\n",
      "scenes/S06002_target_CH1.wav\n",
      "scenes/S06002_target_CH2.wav\n",
      "scenes/S06002_target_CH3.wav\n",
      "scenes/S06002_target_anechoic_CH1.wav\n",
      "scenes/S06003_hr.wav\n",
      "scenes/S06003_interferer_CH0.wav\n",
      "scenes/S06003_interferer_CH1.wav\n",
      "scenes/S06003_interferer_CH2.wav\n",
      "scenes/S06003_interferer_CH3.wav\n",
      "scenes/S06003_mix_CH0.wav\n",
      "scenes/S06003_mix_CH1.wav\n",
      "scenes/S06003_mix_CH2.wav\n",
      "scenes/S06003_mix_CH3.wav\n",
      "scenes/S06003_target_CH0.wav\n",
      "scenes/S06003_target_CH1.wav\n",
      "scenes/S06003_target_CH2.wav\n",
      "scenes/S06003_target_CH3.wav\n",
      "scenes/S06003_target_anechoic_CH1.wav\n",
      "scenes/S06004_hr.wav\n",
      "scenes/S06004_interferer_CH0.wav\n",
      "scenes/S06004_interferer_CH1.wav\n",
      "scenes/S06004_interferer_CH2.wav\n",
      "scenes/S06004_interferer_CH3.wav\n",
      "scenes/S06004_mix_CH0.wav\n",
      "scenes/S06004_mix_CH1.wav\n",
      "scenes/S06004_mix_CH2.wav\n",
      "scenes/S06004_mix_CH3.wav\n",
      "scenes/S06004_target_CH0.wav\n",
      "scenes/S06004_target_CH1.wav\n",
      "scenes/S06004_target_CH2.wav\n",
      "scenes/S06004_target_CH3.wav\n",
      "scenes/S06004_target_anechoic_CH1.wav\n",
      "scenes/S06005_hr.wav\n",
      "scenes/S06005_interferer_CH0.wav\n",
      "scenes/S06005_interferer_CH1.wav\n",
      "scenes/S06005_interferer_CH2.wav\n",
      "scenes/S06005_interferer_CH3.wav\n",
      "scenes/S06005_mix_CH0.wav\n",
      "scenes/S06005_mix_CH1.wav\n",
      "scenes/S06005_mix_CH2.wav\n",
      "scenes/S06005_mix_CH3.wav\n",
      "scenes/S06005_target_CH0.wav\n",
      "scenes/S06005_target_CH1.wav\n",
      "scenes/S06005_target_CH2.wav\n",
      "scenes/S06005_target_CH3.wav\n",
      "scenes/S06005_target_anechoic_CH1.wav\n",
      "scenes/S06006_hr.wav\n",
      "scenes/S06006_interferer_CH0.wav\n",
      "scenes/S06006_interferer_CH1.wav\n",
      "scenes/S06006_interferer_CH2.wav\n",
      "scenes/S06006_interferer_CH3.wav\n",
      "scenes/S06006_mix_CH0.wav\n",
      "scenes/S06006_mix_CH1.wav\n",
      "scenes/S06006_mix_CH2.wav\n",
      "scenes/S06006_mix_CH3.wav\n",
      "scenes/S06006_target_CH0.wav\n",
      "scenes/S06006_target_CH1.wav\n",
      "scenes/S06006_target_CH2.wav\n",
      "scenes/S06006_target_CH3.wav\n",
      "scenes/S06006_target_anechoic_CH1.wav\n",
      "scenes/S06007_hr.wav\n",
      "scenes/S06007_interferer_CH0.wav\n",
      "scenes/S06007_interferer_CH1.wav\n",
      "scenes/S06007_interferer_CH2.wav\n",
      "scenes/S06007_interferer_CH3.wav\n",
      "scenes/S06007_mix_CH0.wav\n",
      "scenes/S06007_mix_CH1.wav\n",
      "scenes/S06007_mix_CH2.wav\n",
      "scenes/S06007_mix_CH3.wav\n",
      "scenes/S06007_target_CH0.wav\n",
      "scenes/S06007_target_CH1.wav\n",
      "scenes/S06007_target_CH2.wav\n",
      "scenes/S06007_target_CH3.wav\n",
      "scenes/S06007_target_anechoic_CH1.wav\n",
      "scenes/S06008_hr.wav\n",
      "scenes/S06008_interferer_CH0.wav\n",
      "scenes/S06008_interferer_CH1.wav\n",
      "scenes/S06008_interferer_CH2.wav\n",
      "scenes/S06008_interferer_CH3.wav\n",
      "scenes/S06008_mix_CH0.wav\n",
      "scenes/S06008_mix_CH1.wav\n",
      "scenes/S06008_mix_CH2.wav\n",
      "scenes/S06008_mix_CH3.wav\n",
      "scenes/S06008_target_CH0.wav\n",
      "scenes/S06008_target_CH1.wav\n",
      "scenes/S06008_target_CH2.wav\n",
      "scenes/S06008_target_CH3.wav\n",
      "scenes/S06008_target_anechoic_CH1.wav\n",
      "scenes/S06009_hr.wav\n",
      "scenes/S06009_interferer_CH0.wav\n",
      "scenes/S06009_interferer_CH1.wav\n",
      "scenes/S06009_interferer_CH2.wav\n",
      "scenes/S06009_interferer_CH3.wav\n",
      "scenes/S06009_mix_CH0.wav\n",
      "scenes/S06009_mix_CH1.wav\n",
      "scenes/S06009_mix_CH2.wav\n",
      "scenes/S06009_mix_CH3.wav\n",
      "scenes/S06009_target_CH0.wav\n",
      "scenes/S06009_target_CH1.wav\n",
      "scenes/S06009_target_CH2.wav\n",
      "scenes/S06009_target_CH3.wav\n",
      "scenes/S06009_target_anechoic_CH1.wav\n",
      "scenes/S06010_hr.wav\n",
      "scenes/S06010_interferer_CH0.wav\n",
      "scenes/S06010_interferer_CH1.wav\n",
      "scenes/S06010_interferer_CH2.wav\n",
      "scenes/S06010_interferer_CH3.wav\n",
      "scenes/S06010_mix_CH0.wav\n",
      "scenes/S06010_mix_CH1.wav\n",
      "scenes/S06010_mix_CH2.wav\n",
      "scenes/S06010_mix_CH3.wav\n",
      "scenes/S06010_target_CH0.wav\n",
      "scenes/S06010_target_CH1.wav\n",
      "scenes/S06010_target_CH2.wav\n",
      "scenes/S06010_target_CH3.wav\n",
      "scenes/S06010_target_anechoic_CH1.wav\n",
      "scenes/S06011_hr.wav\n",
      "scenes/S06011_interferer_CH0.wav\n",
      "scenes/S06011_interferer_CH1.wav\n",
      "scenes/S06011_interferer_CH2.wav\n",
      "scenes/S06011_interferer_CH3.wav\n",
      "scenes/S06011_mix_CH0.wav\n",
      "scenes/S06011_mix_CH1.wav\n",
      "scenes/S06011_mix_CH2.wav\n",
      "scenes/S06011_mix_CH3.wav\n",
      "scenes/S06011_target_CH0.wav\n",
      "scenes/S06011_target_CH1.wav\n",
      "scenes/S06011_target_CH2.wav\n",
      "scenes/S06011_target_CH3.wav\n",
      "scenes/S06011_target_anechoic_CH1.wav\n",
      "scenes/S06012_hr.wav\n",
      "scenes/S06012_interferer_CH0.wav\n",
      "scenes/S06012_interferer_CH1.wav\n",
      "scenes/S06012_interferer_CH2.wav\n",
      "scenes/S06012_interferer_CH3.wav\n",
      "scenes/S06012_mix_CH0.wav\n",
      "scenes/S06012_mix_CH1.wav\n",
      "scenes/S06012_mix_CH2.wav\n",
      "scenes/S06012_mix_CH3.wav\n",
      "scenes/S06012_target_CH0.wav\n",
      "scenes/S06012_target_CH1.wav\n",
      "scenes/S06012_target_CH2.wav\n",
      "scenes/S06012_target_CH3.wav\n",
      "scenes/S06012_target_anechoic_CH1.wav\n",
      "scenes/S06013_hr.wav\n",
      "scenes/S06013_interferer_CH0.wav\n",
      "scenes/S06013_interferer_CH1.wav\n",
      "scenes/S06013_interferer_CH2.wav\n",
      "scenes/S06013_interferer_CH3.wav\n",
      "scenes/S06013_mix_CH0.wav\n",
      "scenes/S06013_mix_CH1.wav\n",
      "scenes/S06013_mix_CH2.wav\n",
      "scenes/S06013_mix_CH3.wav\n",
      "scenes/S06013_target_CH0.wav\n",
      "scenes/S06013_target_CH1.wav\n",
      "scenes/S06013_target_CH2.wav\n",
      "scenes/S06013_target_CH3.wav\n",
      "scenes/S06013_target_anechoic_CH1.wav\n",
      "scenes/S06014_hr.wav\n",
      "scenes/S06014_interferer_CH0.wav\n",
      "scenes/S06014_interferer_CH1.wav\n",
      "scenes/S06014_interferer_CH2.wav\n",
      "scenes/S06014_interferer_CH3.wav\n",
      "scenes/S06014_mix_CH0.wav\n",
      "scenes/S06014_mix_CH1.wav\n",
      "scenes/S06014_mix_CH2.wav\n",
      "scenes/S06014_mix_CH3.wav\n",
      "scenes/S06014_target_CH0.wav\n",
      "scenes/S06014_target_CH1.wav\n",
      "scenes/S06014_target_CH2.wav\n",
      "scenes/S06014_target_CH3.wav\n",
      "scenes/S06014_target_anechoic_CH1.wav\n",
      "scenes/S06015_hr.wav\n",
      "scenes/S06015_interferer_CH0.wav\n",
      "scenes/S06015_interferer_CH1.wav\n",
      "scenes/S06015_interferer_CH2.wav\n",
      "scenes/S06015_interferer_CH3.wav\n",
      "scenes/S06015_mix_CH0.wav\n",
      "scenes/S06015_mix_CH1.wav\n",
      "scenes/S06015_mix_CH2.wav\n",
      "scenes/S06015_mix_CH3.wav\n",
      "scenes/S06015_target_CH0.wav\n",
      "scenes/S06015_target_CH1.wav\n",
      "scenes/S06015_target_CH2.wav\n",
      "scenes/S06015_target_CH3.wav\n",
      "scenes/S06015_target_anechoic_CH1.wav\n",
      "scenes/S06016_hr.wav\n",
      "scenes/S06016_interferer_CH0.wav\n",
      "scenes/S06016_interferer_CH1.wav\n",
      "scenes/S06016_interferer_CH2.wav\n",
      "scenes/S06016_interferer_CH3.wav\n",
      "scenes/S06016_mix_CH0.wav\n",
      "scenes/S06016_mix_CH1.wav\n",
      "scenes/S06016_mix_CH2.wav\n",
      "scenes/S06016_mix_CH3.wav\n",
      "scenes/S06016_target_CH0.wav\n",
      "scenes/S06016_target_CH1.wav\n",
      "scenes/S06016_target_CH2.wav\n",
      "scenes/S06016_target_CH3.wav\n",
      "scenes/S06016_target_anechoic_CH1.wav\n",
      "scenes/S06017_hr.wav\n",
      "scenes/S06017_interferer_CH0.wav\n",
      "scenes/S06017_interferer_CH1.wav\n",
      "scenes/S06017_interferer_CH2.wav\n",
      "scenes/S06017_interferer_CH3.wav\n",
      "scenes/S06017_mix_CH0.wav\n",
      "scenes/S06017_mix_CH1.wav\n",
      "scenes/S06017_mix_CH2.wav\n",
      "scenes/S06017_mix_CH3.wav\n",
      "scenes/S06017_target_CH0.wav\n",
      "scenes/S06017_target_CH1.wav\n",
      "scenes/S06017_target_CH2.wav\n",
      "scenes/S06017_target_CH3.wav\n",
      "scenes/S06017_target_anechoic_CH1.wav\n",
      "scenes/S06018_hr.wav\n",
      "scenes/S06018_interferer_CH0.wav\n",
      "scenes/S06018_interferer_CH1.wav\n",
      "scenes/S06018_interferer_CH2.wav\n",
      "scenes/S06018_interferer_CH3.wav\n",
      "scenes/S06018_mix_CH0.wav\n",
      "scenes/S06018_mix_CH1.wav\n",
      "scenes/S06018_mix_CH2.wav\n",
      "scenes/S06018_mix_CH3.wav\n",
      "scenes/S06018_target_CH0.wav\n",
      "scenes/S06018_target_CH1.wav\n",
      "scenes/S06018_target_CH2.wav\n",
      "scenes/S06018_target_CH3.wav\n",
      "scenes/S06018_target_anechoic_CH1.wav\n",
      "scenes/S06019_hr.wav\n",
      "scenes/S06019_interferer_CH0.wav\n",
      "scenes/S06019_interferer_CH1.wav\n",
      "scenes/S06019_interferer_CH2.wav\n",
      "scenes/S06019_interferer_CH3.wav\n",
      "scenes/S06019_mix_CH0.wav\n",
      "scenes/S06019_mix_CH1.wav\n",
      "scenes/S06019_mix_CH2.wav\n",
      "scenes/S06019_mix_CH3.wav\n",
      "scenes/S06019_target_CH0.wav\n",
      "scenes/S06019_target_CH1.wav\n",
      "scenes/S06019_target_CH2.wav\n",
      "scenes/S06019_target_CH3.wav\n",
      "scenes/S06019_target_anechoic_CH1.wav\n",
      "scenes/S06020_hr.wav\n",
      "scenes/S06020_interferer_CH0.wav\n",
      "scenes/S06020_interferer_CH1.wav\n",
      "scenes/S06020_interferer_CH2.wav\n",
      "scenes/S06020_interferer_CH3.wav\n",
      "scenes/S06020_mix_CH0.wav\n",
      "scenes/S06020_mix_CH1.wav\n",
      "scenes/S06020_mix_CH2.wav\n",
      "scenes/S06020_mix_CH3.wav\n",
      "scenes/S06020_target_CH0.wav\n",
      "scenes/S06020_target_CH1.wav\n",
      "scenes/S06020_target_CH2.wav\n",
      "scenes/S06020_target_CH3.wav\n",
      "scenes/S06020_target_anechoic_CH1.wav\n",
      "scenes/S06021_hr.wav\n",
      "scenes/S06021_interferer_CH0.wav\n",
      "scenes/S06021_interferer_CH1.wav\n",
      "scenes/S06021_interferer_CH2.wav\n",
      "scenes/S06021_interferer_CH3.wav\n",
      "scenes/S06021_mix_CH0.wav\n",
      "scenes/S06021_mix_CH1.wav\n",
      "scenes/S06021_mix_CH2.wav\n",
      "scenes/S06021_mix_CH3.wav\n",
      "scenes/S06021_target_CH0.wav\n",
      "scenes/S06021_target_CH1.wav\n",
      "scenes/S06021_target_CH2.wav\n",
      "scenes/S06021_target_CH3.wav\n",
      "scenes/S06021_target_anechoic_CH1.wav\n",
      "scenes/S06022_hr.wav\n",
      "scenes/S06022_interferer_CH0.wav\n",
      "scenes/S06022_interferer_CH1.wav\n",
      "scenes/S06022_interferer_CH2.wav\n",
      "scenes/S06022_interferer_CH3.wav\n",
      "scenes/S06022_mix_CH0.wav\n",
      "scenes/S06022_mix_CH1.wav\n",
      "scenes/S06022_mix_CH2.wav\n",
      "scenes/S06022_mix_CH3.wav\n",
      "scenes/S06022_target_CH0.wav\n",
      "scenes/S06022_target_CH1.wav\n",
      "scenes/S06022_target_CH2.wav\n",
      "scenes/S06022_target_CH3.wav\n",
      "scenes/S06022_target_anechoic_CH1.wav\n",
      "scenes/S06023_hr.wav\n",
      "scenes/S06023_interferer_CH0.wav\n",
      "scenes/S06023_interferer_CH1.wav\n",
      "scenes/S06023_interferer_CH2.wav\n",
      "scenes/S06023_interferer_CH3.wav\n",
      "scenes/S06023_mix_CH0.wav\n",
      "scenes/S06023_mix_CH1.wav\n",
      "scenes/S06023_mix_CH2.wav\n",
      "scenes/S06023_mix_CH3.wav\n",
      "scenes/S06023_target_CH0.wav\n",
      "scenes/S06023_target_CH1.wav\n",
      "scenes/S06023_target_CH2.wav\n",
      "scenes/S06023_target_CH3.wav\n",
      "scenes/S06023_target_anechoic_CH1.wav\n",
      "scenes/S06024_hr.wav\n",
      "scenes/S06024_interferer_CH0.wav\n",
      "scenes/S06024_interferer_CH1.wav\n",
      "scenes/S06024_interferer_CH2.wav\n",
      "scenes/S06024_interferer_CH3.wav\n",
      "scenes/S06024_mix_CH0.wav\n",
      "scenes/S06024_mix_CH1.wav\n",
      "scenes/S06024_mix_CH2.wav\n",
      "scenes/S06024_mix_CH3.wav\n",
      "scenes/S06024_target_CH0.wav\n",
      "scenes/S06024_target_CH1.wav\n",
      "scenes/S06024_target_CH2.wav\n",
      "scenes/S06024_target_CH3.wav\n",
      "scenes/S06024_target_anechoic_CH1.wav\n",
      "scenes/S06025_hr.wav\n",
      "scenes/S06025_interferer_CH0.wav\n",
      "scenes/S06025_interferer_CH1.wav\n",
      "scenes/S06025_interferer_CH2.wav\n",
      "scenes/S06025_interferer_CH3.wav\n",
      "scenes/S06025_mix_CH0.wav\n",
      "scenes/S06025_mix_CH1.wav\n",
      "scenes/S06025_mix_CH2.wav\n",
      "scenes/S06025_mix_CH3.wav\n",
      "scenes/S06025_target_CH0.wav\n",
      "scenes/S06025_target_CH1.wav\n",
      "scenes/S06025_target_CH2.wav\n",
      "scenes/S06025_target_CH3.wav\n",
      "scenes/S06025_target_anechoic_CH1.wav\n",
      "scenes/S06026_hr.wav\n",
      "scenes/S06026_interferer_CH0.wav\n",
      "scenes/S06026_interferer_CH1.wav\n",
      "scenes/S06026_interferer_CH2.wav\n",
      "scenes/S06026_interferer_CH3.wav\n",
      "scenes/S06026_mix_CH0.wav\n",
      "scenes/S06026_mix_CH1.wav\n",
      "scenes/S06026_mix_CH2.wav\n",
      "scenes/S06026_mix_CH3.wav\n",
      "scenes/S06026_target_CH0.wav\n",
      "scenes/S06026_target_CH1.wav\n",
      "scenes/S06026_target_CH2.wav\n",
      "scenes/S06026_target_CH3.wav\n",
      "scenes/S06026_target_anechoic_CH1.wav\n",
      "scenes/S06027_hr.wav\n",
      "scenes/S06027_interferer_CH0.wav\n",
      "scenes/S06027_interferer_CH1.wav\n",
      "scenes/S06027_interferer_CH2.wav\n",
      "scenes/S06027_interferer_CH3.wav\n",
      "scenes/S06027_mix_CH0.wav\n",
      "scenes/S06027_mix_CH1.wav\n",
      "scenes/S06027_mix_CH2.wav\n",
      "scenes/S06027_mix_CH3.wav\n",
      "scenes/S06027_target_CH0.wav\n",
      "scenes/S06027_target_CH1.wav\n",
      "scenes/S06027_target_CH2.wav\n",
      "scenes/S06027_target_CH3.wav\n",
      "scenes/S06027_target_anechoic_CH1.wav\n",
      "scenes/S06028_hr.wav\n",
      "scenes/S06028_interferer_CH0.wav\n",
      "scenes/S06028_interferer_CH1.wav\n",
      "scenes/S06028_interferer_CH2.wav\n",
      "scenes/S06028_interferer_CH3.wav\n",
      "scenes/S06028_mix_CH0.wav\n",
      "scenes/S06028_mix_CH1.wav\n",
      "scenes/S06028_mix_CH2.wav\n",
      "scenes/S06028_mix_CH3.wav\n",
      "scenes/S06028_target_CH0.wav\n",
      "scenes/S06028_target_CH1.wav\n",
      "scenes/S06028_target_CH2.wav\n",
      "scenes/S06028_target_CH3.wav\n",
      "scenes/S06028_target_anechoic_CH1.wav\n",
      "scenes/S06029_hr.wav\n",
      "scenes/S06029_interferer_CH0.wav\n",
      "scenes/S06029_interferer_CH1.wav\n",
      "scenes/S06029_interferer_CH2.wav\n",
      "scenes/S06029_interferer_CH3.wav\n",
      "scenes/S06029_mix_CH0.wav\n",
      "scenes/S06029_mix_CH1.wav\n",
      "scenes/S06029_mix_CH2.wav\n",
      "scenes/S06029_mix_CH3.wav\n",
      "scenes/S06029_target_CH0.wav\n",
      "scenes/S06029_target_CH1.wav\n",
      "scenes/S06029_target_CH2.wav\n",
      "scenes/S06029_target_CH3.wav\n",
      "scenes/S06029_target_anechoic_CH1.wav\n",
      "scenes/S06030_hr.wav\n",
      "scenes/S06030_interferer_CH0.wav\n",
      "scenes/S06030_interferer_CH1.wav\n",
      "scenes/S06030_interferer_CH2.wav\n",
      "scenes/S06030_interferer_CH3.wav\n",
      "scenes/S06030_mix_CH0.wav\n",
      "scenes/S06030_mix_CH1.wav\n",
      "scenes/S06030_mix_CH2.wav\n",
      "scenes/S06030_mix_CH3.wav\n",
      "scenes/S06030_target_CH0.wav\n",
      "scenes/S06030_target_CH1.wav\n",
      "scenes/S06030_target_CH2.wav\n",
      "scenes/S06030_target_CH3.wav\n",
      "scenes/S06030_target_anechoic_CH1.wav\n",
      "scenes/S06031_hr.wav\n",
      "scenes/S06031_interferer_CH0.wav\n",
      "scenes/S06031_interferer_CH1.wav\n",
      "scenes/S06031_interferer_CH2.wav\n",
      "scenes/S06031_interferer_CH3.wav\n",
      "scenes/S06031_mix_CH0.wav\n",
      "scenes/S06031_mix_CH1.wav\n",
      "scenes/S06031_mix_CH2.wav\n",
      "scenes/S06031_mix_CH3.wav\n",
      "scenes/S06031_target_CH0.wav\n",
      "scenes/S06031_target_CH1.wav\n",
      "scenes/S06031_target_CH2.wav\n",
      "scenes/S06031_target_CH3.wav\n",
      "scenes/S06031_target_anechoic_CH1.wav\n",
      "scenes/S06032_hr.wav\n",
      "scenes/S06032_interferer_CH0.wav\n",
      "scenes/S06032_interferer_CH1.wav\n",
      "scenes/S06032_interferer_CH2.wav\n",
      "scenes/S06032_interferer_CH3.wav\n",
      "scenes/S06032_mix_CH0.wav\n",
      "scenes/S06032_mix_CH1.wav\n",
      "scenes/S06032_mix_CH2.wav\n",
      "scenes/S06032_mix_CH3.wav\n",
      "scenes/S06032_target_CH0.wav\n",
      "scenes/S06032_target_CH1.wav\n",
      "scenes/S06032_target_CH2.wav\n",
      "scenes/S06032_target_CH3.wav\n",
      "scenes/S06032_target_anechoic_CH1.wav\n",
      "scenes/S06033_hr.wav\n",
      "scenes/S06033_interferer_CH0.wav\n",
      "scenes/S06033_interferer_CH1.wav\n",
      "scenes/S06033_interferer_CH2.wav\n",
      "scenes/S06033_interferer_CH3.wav\n",
      "scenes/S06033_mix_CH0.wav\n",
      "scenes/S06033_mix_CH1.wav\n",
      "scenes/S06033_mix_CH2.wav\n",
      "scenes/S06033_mix_CH3.wav\n",
      "scenes/S06033_target_CH0.wav\n",
      "scenes/S06033_target_CH1.wav\n",
      "scenes/S06033_target_CH2.wav\n",
      "scenes/S06033_target_CH3.wav\n",
      "scenes/S06033_target_anechoic_CH1.wav\n",
      "scenes/S06034_hr.wav\n",
      "scenes/S06034_interferer_CH0.wav\n",
      "scenes/S06034_interferer_CH1.wav\n",
      "scenes/S06034_interferer_CH2.wav\n",
      "scenes/S06034_interferer_CH3.wav\n",
      "scenes/S06034_mix_CH0.wav\n",
      "scenes/S06034_mix_CH1.wav\n",
      "scenes/S06034_mix_CH2.wav\n",
      "scenes/S06034_mix_CH3.wav\n",
      "scenes/S06034_target_CH0.wav\n",
      "scenes/S06034_target_CH1.wav\n",
      "scenes/S06034_target_CH2.wav\n",
      "scenes/S06034_target_CH3.wav\n",
      "scenes/S06034_target_anechoic_CH1.wav\n",
      "scenes/S06035_hr.wav\n",
      "scenes/S06035_interferer_CH0.wav\n",
      "scenes/S06035_interferer_CH1.wav\n",
      "scenes/S06035_interferer_CH2.wav\n",
      "scenes/S06035_interferer_CH3.wav\n",
      "scenes/S06035_mix_CH0.wav\n",
      "scenes/S06035_mix_CH1.wav\n",
      "scenes/S06035_mix_CH2.wav\n",
      "scenes/S06035_mix_CH3.wav\n",
      "scenes/S06035_target_CH0.wav\n",
      "scenes/S06035_target_CH1.wav\n",
      "scenes/S06035_target_CH2.wav\n",
      "scenes/S06035_target_CH3.wav\n",
      "scenes/S06035_target_anechoic_CH1.wav\n",
      "scenes/S06036_hr.wav\n",
      "scenes/S06036_interferer_CH0.wav\n",
      "scenes/S06036_interferer_CH1.wav\n",
      "scenes/S06036_interferer_CH2.wav\n",
      "scenes/S06036_interferer_CH3.wav\n",
      "scenes/S06036_mix_CH0.wav\n",
      "scenes/S06036_mix_CH1.wav\n",
      "scenes/S06036_mix_CH2.wav\n",
      "scenes/S06036_mix_CH3.wav\n",
      "scenes/S06036_target_CH0.wav\n",
      "scenes/S06036_target_CH1.wav\n",
      "scenes/S06036_target_CH2.wav\n",
      "scenes/S06036_target_CH3.wav\n",
      "scenes/S06036_target_anechoic_CH1.wav\n",
      "scenes/S06037_hr.wav\n",
      "scenes/S06037_interferer_CH0.wav\n",
      "scenes/S06037_interferer_CH1.wav\n",
      "scenes/S06037_interferer_CH2.wav\n",
      "scenes/S06037_interferer_CH3.wav\n",
      "scenes/S06037_mix_CH0.wav\n",
      "scenes/S06037_mix_CH1.wav\n",
      "scenes/S06037_mix_CH2.wav\n",
      "scenes/S06037_mix_CH3.wav\n",
      "scenes/S06037_target_CH0.wav\n",
      "scenes/S06037_target_CH1.wav\n",
      "scenes/S06037_target_CH2.wav\n",
      "scenes/S06037_target_CH3.wav\n",
      "scenes/S06037_target_anechoic_CH1.wav\n",
      "scenes/S06038_hr.wav\n",
      "scenes/S06038_interferer_CH0.wav\n",
      "scenes/S06038_interferer_CH1.wav\n",
      "scenes/S06038_interferer_CH2.wav\n",
      "scenes/S06038_interferer_CH3.wav\n",
      "scenes/S06038_mix_CH0.wav\n",
      "scenes/S06038_mix_CH1.wav\n",
      "scenes/S06038_mix_CH2.wav\n",
      "scenes/S06038_mix_CH3.wav\n",
      "scenes/S06038_target_CH0.wav\n",
      "scenes/S06038_target_CH1.wav\n",
      "scenes/S06038_target_CH2.wav\n",
      "scenes/S06038_target_CH3.wav\n",
      "scenes/S06038_target_anechoic_CH1.wav\n",
      "scenes/S06039_hr.wav\n",
      "scenes/S06039_interferer_CH0.wav\n",
      "scenes/S06039_interferer_CH1.wav\n",
      "scenes/S06039_interferer_CH2.wav\n",
      "scenes/S06039_interferer_CH3.wav\n",
      "scenes/S06039_mix_CH0.wav\n",
      "scenes/S06039_mix_CH1.wav\n",
      "scenes/S06039_mix_CH2.wav\n",
      "scenes/S06039_mix_CH3.wav\n",
      "scenes/S06039_target_CH0.wav\n",
      "scenes/S06039_target_CH1.wav\n",
      "scenes/S06039_target_CH2.wav\n",
      "scenes/S06039_target_CH3.wav\n",
      "scenes/S06039_target_anechoic_CH1.wav\n",
      "scenes/S06040_hr.wav\n",
      "scenes/S06040_interferer_CH0.wav\n",
      "scenes/S06040_interferer_CH1.wav\n",
      "scenes/S06040_interferer_CH2.wav\n",
      "scenes/S06040_interferer_CH3.wav\n",
      "scenes/S06040_mix_CH0.wav\n",
      "scenes/S06040_mix_CH1.wav\n",
      "scenes/S06040_mix_CH2.wav\n",
      "scenes/S06040_mix_CH3.wav\n",
      "scenes/S06040_target_CH0.wav\n",
      "scenes/S06040_target_CH1.wav\n",
      "scenes/S06040_target_CH2.wav\n",
      "scenes/S06040_target_CH3.wav\n",
      "scenes/S06040_target_anechoic_CH1.wav\n",
      "scenes/S06041_hr.wav\n",
      "scenes/S06041_interferer_CH0.wav\n",
      "scenes/S06041_interferer_CH1.wav\n",
      "scenes/S06041_interferer_CH2.wav\n",
      "scenes/S06041_interferer_CH3.wav\n",
      "scenes/S06041_mix_CH0.wav\n",
      "scenes/S06041_mix_CH1.wav\n",
      "scenes/S06041_mix_CH2.wav\n",
      "scenes/S06041_mix_CH3.wav\n",
      "scenes/S06041_target_CH0.wav\n",
      "scenes/S06041_target_CH1.wav\n",
      "scenes/S06041_target_CH2.wav\n",
      "scenes/S06041_target_CH3.wav\n",
      "scenes/S06041_target_anechoic_CH1.wav\n",
      "scenes/S06042_hr.wav\n",
      "scenes/S06042_interferer_CH0.wav\n",
      "scenes/S06042_interferer_CH1.wav\n",
      "scenes/S06042_interferer_CH2.wav\n",
      "scenes/S06042_interferer_CH3.wav\n",
      "scenes/S06042_mix_CH0.wav\n",
      "scenes/S06042_mix_CH1.wav\n",
      "scenes/S06042_mix_CH2.wav\n",
      "scenes/S06042_mix_CH3.wav\n",
      "scenes/S06042_target_CH0.wav\n",
      "scenes/S06042_target_CH1.wav\n",
      "scenes/S06042_target_CH2.wav\n",
      "scenes/S06042_target_CH3.wav\n",
      "scenes/S06042_target_anechoic_CH1.wav\n",
      "scenes/S06043_hr.wav\n",
      "scenes/S06043_interferer_CH0.wav\n",
      "scenes/S06043_interferer_CH1.wav\n",
      "scenes/S06043_interferer_CH2.wav\n",
      "scenes/S06043_interferer_CH3.wav\n",
      "scenes/S06043_mix_CH0.wav\n",
      "scenes/S06043_mix_CH1.wav\n",
      "scenes/S06043_mix_CH2.wav\n",
      "scenes/S06043_mix_CH3.wav\n",
      "scenes/S06043_target_CH0.wav\n",
      "scenes/S06043_target_CH1.wav\n",
      "scenes/S06043_target_CH2.wav\n",
      "scenes/S06043_target_CH3.wav\n",
      "scenes/S06043_target_anechoic_CH1.wav\n",
      "scenes/S06044_hr.wav\n",
      "scenes/S06044_interferer_CH0.wav\n",
      "scenes/S06044_interferer_CH1.wav\n",
      "scenes/S06044_interferer_CH2.wav\n",
      "scenes/S06044_interferer_CH3.wav\n",
      "scenes/S06044_mix_CH0.wav\n",
      "scenes/S06044_mix_CH1.wav\n",
      "scenes/S06044_mix_CH2.wav\n",
      "scenes/S06044_mix_CH3.wav\n",
      "scenes/S06044_target_CH0.wav\n",
      "scenes/S06044_target_CH1.wav\n",
      "scenes/S06044_target_CH2.wav\n",
      "scenes/S06044_target_CH3.wav\n",
      "scenes/S06044_target_anechoic_CH1.wav\n",
      "scenes/S06045_hr.wav\n",
      "scenes/S06045_interferer_CH0.wav\n",
      "scenes/S06045_interferer_CH1.wav\n",
      "scenes/S06045_interferer_CH2.wav\n",
      "scenes/S06045_interferer_CH3.wav\n",
      "scenes/S06045_mix_CH0.wav\n",
      "scenes/S06045_mix_CH1.wav\n",
      "scenes/S06045_mix_CH2.wav\n",
      "scenes/S06045_mix_CH3.wav\n",
      "scenes/S06045_target_CH0.wav\n",
      "scenes/S06045_target_CH1.wav\n",
      "scenes/S06045_target_CH2.wav\n",
      "scenes/S06045_target_CH3.wav\n",
      "scenes/S06045_target_anechoic_CH1.wav\n",
      "scenes/S06046_hr.wav\n",
      "scenes/S06046_interferer_CH0.wav\n",
      "scenes/S06046_interferer_CH1.wav\n",
      "scenes/S06046_interferer_CH2.wav\n",
      "scenes/S06046_interferer_CH3.wav\n",
      "scenes/S06046_mix_CH0.wav\n",
      "scenes/S06046_mix_CH1.wav\n",
      "scenes/S06046_mix_CH2.wav\n",
      "scenes/S06046_mix_CH3.wav\n",
      "scenes/S06046_target_CH0.wav\n",
      "scenes/S06046_target_CH1.wav\n",
      "scenes/S06046_target_CH2.wav\n",
      "scenes/S06046_target_CH3.wav\n",
      "scenes/S06046_target_anechoic_CH1.wav\n",
      "scenes/S06047_hr.wav\n",
      "scenes/S06047_interferer_CH0.wav\n",
      "scenes/S06047_interferer_CH1.wav\n",
      "scenes/S06047_interferer_CH2.wav\n",
      "scenes/S06047_interferer_CH3.wav\n",
      "scenes/S06047_mix_CH0.wav\n",
      "scenes/S06047_mix_CH1.wav\n",
      "scenes/S06047_mix_CH2.wav\n",
      "scenes/S06047_mix_CH3.wav\n",
      "scenes/S06047_target_CH0.wav\n",
      "scenes/S06047_target_CH1.wav\n",
      "scenes/S06047_target_CH2.wav\n",
      "scenes/S06047_target_CH3.wav\n",
      "scenes/S06047_target_anechoic_CH1.wav\n",
      "scenes/S06048_hr.wav\n",
      "scenes/S06048_interferer_CH0.wav\n",
      "scenes/S06048_interferer_CH1.wav\n",
      "scenes/S06048_interferer_CH2.wav\n",
      "scenes/S06048_interferer_CH3.wav\n",
      "scenes/S06048_mix_CH0.wav\n",
      "scenes/S06048_mix_CH1.wav\n",
      "scenes/S06048_mix_CH2.wav\n",
      "scenes/S06048_mix_CH3.wav\n",
      "scenes/S06048_target_CH0.wav\n",
      "scenes/S06048_target_CH1.wav\n",
      "scenes/S06048_target_CH2.wav\n",
      "scenes/S06048_target_CH3.wav\n",
      "scenes/S06048_target_anechoic_CH1.wav\n",
      "scenes/S06049_hr.wav\n",
      "scenes/S06049_interferer_CH0.wav\n",
      "scenes/S06049_interferer_CH1.wav\n",
      "scenes/S06049_interferer_CH2.wav\n",
      "scenes/S06049_interferer_CH3.wav\n",
      "scenes/S06049_mix_CH0.wav\n",
      "scenes/S06049_mix_CH1.wav\n",
      "scenes/S06049_mix_CH2.wav\n",
      "scenes/S06049_mix_CH3.wav\n",
      "scenes/S06049_target_CH0.wav\n",
      "scenes/S06049_target_CH1.wav\n",
      "scenes/S06049_target_CH2.wav\n",
      "scenes/S06049_target_CH3.wav\n",
      "scenes/S06049_target_anechoic_CH1.wav\n",
      "scenes/S06050_hr.wav\n",
      "scenes/S06050_interferer_CH0.wav\n",
      "scenes/S06050_interferer_CH1.wav\n",
      "scenes/S06050_interferer_CH2.wav\n",
      "scenes/S06050_interferer_CH3.wav\n",
      "scenes/S06050_mix_CH0.wav\n",
      "scenes/S06050_mix_CH1.wav\n",
      "scenes/S06050_mix_CH2.wav\n",
      "scenes/S06050_mix_CH3.wav\n",
      "scenes/S06050_target_CH0.wav\n",
      "scenes/S06050_target_CH1.wav\n",
      "scenes/S06050_target_CH2.wav\n",
      "scenes/S06050_target_CH3.wav\n",
      "scenes/S06050_target_anechoic_CH1.wav\n"
     ]
    }
   ],
   "execution_count": 2
  },
  {
   "cell_type": "markdown",
   "metadata": {
    "id": "n2VFka92_q0n"
   },
   "source": [
    "By default, the demo data will have been downloaded into a directory called `clarity_data`."
   ]
  },
  {
   "cell_type": "markdown",
   "metadata": {
    "id": "5px0mOH8x1Tq"
   },
   "source": [
    "## Running the baseline\n",
    "\n",
    "---\n",
    "\n",
    "### Importing the baseline NALR and Compressor components \n",
    "\n",
    "The baseline enhancer is based on <a href='https://pubmed.ncbi.nlm.nih.gov/3743918/'>NAL-R prescription fitting</a>. Since output signals are required to be in 16-bit integer format, a slow acting automatic gain control is implemented to reduce clipping of the signal introduced by the NAL-R fitting for audiograms which represent more severe hearing loss. The AGC is followed by a soft-clip function.\n",
    "\n",
    "The NAL-R and AGC (compressor) classes can be accessed by importing them from the <code>clarity.enhancer</code> module."
   ]
  },
  {
   "cell_type": "code",
   "metadata": {
    "id": "QhxhEF0Uvaj8",
    "ExecuteTime": {
     "end_time": "2024-05-30T10:04:51.399946Z",
     "start_time": "2024-05-30T10:04:50.897935Z"
    }
   },
   "source": [
    "from clarity.enhancer.compressor import Compressor\n",
    "from clarity.enhancer.nalr import NALR"
   ],
   "outputs": [],
   "execution_count": 3
  },
  {
   "cell_type": "markdown",
   "metadata": {
    "id": "RAMaIjLE36l4"
   },
   "source": [
    "### Configuring the NALR and Compressor components\n",
    "\n",
    "To allow for scalable and flexible running on both local and HPC platforms, many Clarity challenge CEC2 scripts and tools depend on <a href='https://hydra.cc/'>hydra</a> and <a href='https://github.com/facebookincubator/submitit'>submitit</a> for the configuration of Python code, for the setting of environment variables such as dataset directories, and for enabling parallisation of Python on both HPC and local machines. (A full description of how hydra and submitit is used in the Clarity challenges is out of the scope of this tutorial).\n",
    "\n",
    "In this notebook, we will be importing the baseline configuration file directly using <code>omegaconf</code>. The module can read a configuration file in YAML format and return a DictConfig object storing the configuration data."
   ]
  },
  {
   "cell_type": "code",
   "metadata": {
    "id": "FDEhmbS86g3s",
    "ExecuteTime": {
     "end_time": "2024-05-30T10:07:50.241332Z",
     "start_time": "2024-05-30T10:07:50.174289Z"
    }
   },
   "source": [
    "from omegaconf import DictConfig, OmegaConf\n",
    "\n",
    "cfg = OmegaConf.load(\"clarity/recipes/cec2/baseline/config.yaml\")\n",
    "assert isinstance(cfg, DictConfig)"
   ],
   "outputs": [],
   "execution_count": 4
  },
  {
   "cell_type": "markdown",
   "metadata": {
    "id": "7rrfQE_Y-kXh"
   },
   "source": [
    "We will need to override some of the standard paths provided in the baseline `config.yaml` to enable us to run the baseline on the demo data in this notebook environment.\n",
    "\n",
    "We need to supply:\n",
    "\n",
    "- The root directory of the project data and metadata\n",
    "- The directory of the metadata\n",
    "- The directory of the audio data\n",
    "\n",
    "\n",
    "The default configuration can be overridden by changing the values in the `cfg` object. "
   ]
  },
  {
   "cell_type": "code",
   "metadata": {
    "id": "WC2pga2Z_kKt",
    "ExecuteTime": {
     "end_time": "2024-05-30T10:07:52.696835Z",
     "start_time": "2024-05-30T10:07:52.693373Z"
    }
   },
   "source": [
    "cfg.path[\"root\"] = \"clarity_data/demo\"\n",
    "cfg.path[\"metadata_dir\"] = \"${path.root}/metadata\"\n",
    "cfg.path[\"scenes_folder\"] = \"${path.root}/scenes\""
   ],
   "outputs": [],
   "execution_count": 5
  },
  {
   "cell_type": "markdown",
   "metadata": {
    "id": "LQmWPOQhCCj8"
   },
   "source": [
    "(Side note: the Clarity tools come with higher level `recipe` scripts that are designed to be used from the command line. When working with these, default configurations can be overriden by passing command line arguments.)\n",
    "\n",
    "With the configuration modified, we can now instantiate our <code>NALR</code> and <code>Compressor</code> objects."
   ]
  },
  {
   "cell_type": "code",
   "metadata": {
    "id": "koMNeEy2CdVX",
    "ExecuteTime": {
     "end_time": "2024-05-30T10:07:53.719784Z",
     "start_time": "2024-05-30T10:07:53.716163Z"
    }
   },
   "source": [
    "enhancer = NALR(**cfg.nalr)\n",
    "compressor = Compressor(**cfg.compressor)"
   ],
   "outputs": [],
   "execution_count": 6
  },
  {
   "cell_type": "markdown",
   "metadata": {
    "id": "9PjbHgS-yJW-"
   },
   "source": [
    "### Selecting a scene and a listener\n",
    "\n",
    "NAL-R fitting involves creating a complementary filterbank that is tuned to the audiogram of a specific listener.\n",
    "\n",
    "For each scene in the Clarity data set, there are three associated listeners that have been randomly selected, i.e., you are told which listeners to process each scene for. Using the right listeners is particularly important when processing the development (and evaluation) data, i.e., to ensure that your results are comparable with those of others.\n",
    "\n",
    "The listener audiogram data and the scene-listener associations are defined in the Clarity metadata.\n",
    "\n",
    "We will first load the scene, targets, listeners and scene_listeners data from the JSON files in which they are stored:"
   ]
  },
  {
   "cell_type": "code",
   "metadata": {
    "id": "gXySwG8UyIOl",
    "ExecuteTime": {
     "end_time": "2024-05-30T10:07:54.198516Z",
     "start_time": "2024-05-30T10:07:54.132080Z"
    }
   },
   "source": [
    "import json\n",
    "\n",
    "with open(\"clarity_data/demo/metadata/scenes.demo.json\") as f:\n",
    "    scene_metadata = json.load(f)\n",
    "\n",
    "with open(\"clarity_data/demo/metadata/listeners.json\") as f:\n",
    "    listeners_metadata = json.load(f)\n",
    "\n",
    "with open(\"clarity_data/demo/metadata/scenes_listeners.dev.json\") as f:\n",
    "    scene_listeners_metadata = json.load(f)"
   ],
   "outputs": [],
   "execution_count": 7
  },
  {
   "cell_type": "markdown",
   "metadata": {
    "id": "d0X8JXOr0grB"
   },
   "source": [
    "Next, we will select an individual scene from `scenes_metadata`, find its associated listener's and then find the listener's audiogram data.  \n",
    "\n",
    "So we first choose a scene the the `scene_metadata` list using a `scene_index`, i.e.,\n"
   ]
  },
  {
   "cell_type": "code",
   "metadata": {
    "id": "qH5y00E4_q0y",
    "ExecuteTime": {
     "end_time": "2024-05-30T10:07:54.702811Z",
     "start_time": "2024-05-30T10:07:54.692645Z"
    }
   },
   "source": [
    "scene_index = 2\n",
    "\n",
    "scene = scene_metadata[scene_index]\n",
    "\n",
    "print(scene)"
   ],
   "outputs": [
    {
     "name": "stdout",
     "output_type": "stream",
     "text": [
      "{'dataset': 'demo', 'room': 'R06027', 'scene': 'S06003', 'target': {'name': 'T013_AB4_00431', 'time_start': 71318, 'time_end': 247277}, 'duration': 291377, 'interferers': [{'position': 1, 'time_start': 0, 'time_end': 291377, 'type': 'music', 'name': '19/387419.low.mp3', 'offset': 1099661}, {'position': 2, 'time_start': 0, 'time_end': 291377, 'type': 'noise', 'name': 'CIN_kettle_019.wav', 'offset': 210829}, {'position': 3, 'time_start': 0, 'time_end': 291377, 'type': 'speech', 'name': 'scm_08784.wav', 'offset': 26078627}], 'SNR': -2.1404, 'listener': {'rotation': [{'sample': 67206.3886, 'angle': -150.8675}, {'sample': 76490.3886, 'angle': -139.1835}], 'hrir_filename': ['BuK-ED', 'BuK-BTE_fr', 'BuK-BTE_mid', 'BuK-BTE_rear']}}\n"
     ]
    }
   ],
   "execution_count": 8
  },
  {
   "cell_type": "markdown",
   "metadata": {
    "id": "sUqVY5Oc_q0y"
   },
   "source": [
    "We find the scene's listeners by looking them up in the `scene_listeners_metadata` dict using the scene's `scene_id` as the key."
   ]
  },
  {
   "cell_type": "code",
   "metadata": {
    "id": "PTGEsnkr_q0z",
    "ExecuteTime": {
     "end_time": "2024-05-30T10:07:55.455488Z",
     "start_time": "2024-05-30T10:07:55.452208Z"
    }
   },
   "source": [
    "scene_id = scene[\"scene\"]\n",
    "\n",
    "scene_listeners = scene_listeners_metadata[scene_id]\n",
    "\n",
    "print(scene_listeners)"
   ],
   "outputs": [
    {
     "name": "stdout",
     "output_type": "stream",
     "text": [
      "['L0066', 'L0051', 'L0077']\n"
     ]
    }
   ],
   "execution_count": 9
  },
  {
   "cell_type": "markdown",
   "metadata": {
    "id": "tSKkGeKE_q0z"
   },
   "source": [
    "This provides us with the list of `listener_id`s for this scene. \n",
    "\n",
    "We will select one `listener_id` from this list and use it as the key to select the required listener metadata."
   ]
  },
  {
   "cell_type": "code",
   "metadata": {
    "id": "F7VA8lxY_q0z",
    "ExecuteTime": {
     "end_time": "2024-05-30T10:07:56.221945Z",
     "start_time": "2024-05-30T10:07:56.216246Z"
    }
   },
   "source": [
    "listener_choice = 1\n",
    "listener_id = scene_listeners[listener_choice]\n",
    "listener = listeners_metadata[listener_id]"
   ],
   "outputs": [],
   "execution_count": 10
  },
  {
   "cell_type": "markdown",
   "metadata": {
    "id": "t0RIN2qW_q00"
   },
   "source": [
    "Each listener metadata entry is a dict containing:\n",
    "\n",
    "- Listener ID\n",
    "- Audiogram centre frequencies\n",
    "- Left ear audiogram hearing levels (dBHL)\n",
    "- Right ear audiogram hearing levels (dBHL)"
   ]
  },
  {
   "cell_type": "code",
   "metadata": {
    "id": "ejK7ulc41Oa2",
    "ExecuteTime": {
     "end_time": "2024-05-30T10:07:56.936241Z",
     "start_time": "2024-05-30T10:07:56.932245Z"
    }
   },
   "source": [
    "print(listener)"
   ],
   "outputs": [
    {
     "name": "stdout",
     "output_type": "stream",
     "text": [
      "{'name': 'L0051', 'audiogram_cfs': [250, 500, 1000, 2000, 3000, 4000, 6000, 8000], 'audiogram_levels_l': [45, 50, 60, 65, 60, 65, 70, 80], 'audiogram_levels_r': [45, 45, 60, 70, 60, 60, 80, 80]}\n"
     ]
    }
   ],
   "execution_count": 11
  },
  {
   "cell_type": "markdown",
   "metadata": {
    "id": "Vn5gT4VZEExs"
   },
   "source": [
    "### Loading the signals to process\n",
    "\n",
    "Next we will load in the scene audio for the scene that we want to process. \n",
    "\n",
    "The path to the scenes audio data is stored in the `cfg.path.scenes_folder` variable and the audio files are named with the scene_id as the prefix and using the format.\n",
    "\n",
    "```\n",
    "<SCENE_ID>_<TYPE>_<CHANNEL>.wav\n",
    "```\n",
    "\n",
    "where `TYPE` can be `mix`, `target`, `interferer` or `interferer_anechoic`, and `CHANNEL` can be `CH1`, `CH2`, `CH3` or `CH0`.\n",
    "\n",
    "The baseline system just uses `CH1` (the front microphone of the hearing aid).\n",
    "\n",
    "Finally, signals are stored as 16-bit integer audio and must be converted to floating point (between -1.0 and 1.0) before use, i.e. by dividing by 2**15.\n",
    "\n",
    "So, using the `wavfile` module from `scipy.io` to read the file, we have, "
   ]
  },
  {
   "cell_type": "code",
   "metadata": {
    "id": "YMdjWN7KEnua",
    "ExecuteTime": {
     "end_time": "2024-05-30T10:07:57.776172Z",
     "start_time": "2024-05-30T10:07:57.731528Z"
    }
   },
   "source": [
    "import os\n",
    "\n",
    "from scipy.io import wavfile\n",
    "\n",
    "fs, signal = wavfile.read(\n",
    "    os.path.join(cfg.path.scenes_folder, f\"{scene_id}_mix_CH1.wav\")\n",
    ")\n",
    "\n",
    "signal = signal / 32768.0"
   ],
   "outputs": [],
   "execution_count": 12
  },
  {
   "cell_type": "markdown",
   "metadata": {
    "id": "DsIdAWZu_q02"
   },
   "source": [
    "We can plot the signal to check it looks OK,"
   ]
  },
  {
   "cell_type": "code",
   "metadata": {
    "id": "73Aog7GM_q02",
    "ExecuteTime": {
     "end_time": "2024-05-30T10:07:59.382443Z",
     "start_time": "2024-05-30T10:07:58.579695Z"
    }
   },
   "source": [
    "import matplotlib.pylab as plt\n",
    "\n",
    "plt.plot(signal)"
   ],
   "outputs": [
    {
     "data": {
      "text/plain": [
       "[<matplotlib.lines.Line2D at 0x79f7d1cc58a0>,\n",
       " <matplotlib.lines.Line2D at 0x79f7d1cc5900>]"
      ]
     },
     "execution_count": 13,
     "metadata": {},
     "output_type": "execute_result"
    },
    {
     "data": {
      "text/plain": [
       "<Figure size 640x480 with 1 Axes>"
      ],
      "image/png": "[encoded data removed]"
     },
     "metadata": {},
     "output_type": "display_data"
    }
   ],
   "execution_count": 13
  },
  {
   "cell_type": "markdown",
   "metadata": {
    "id": "D9CHEDvTmBrt"
   },
   "source": [
    "### Applying the NALR and Compressor components\n",
    "\n",
    "We will now build the NALR filterbank according to the audiograms of the listener we have selected and apply the filter to the scene signal. This is done separately for the left and right ear (i.e., for each channel of the stereo scene signal).\n"
   ]
  },
  {
   "cell_type": "code",
   "metadata": {
    "id": "w2oVdfWz4OBW",
    "ExecuteTime": {
     "end_time": "2024-05-30T10:07:59.678258Z",
     "start_time": "2024-05-30T10:07:59.384217Z"
    }
   },
   "source": [
    "import numpy as np\n",
    "\n",
    "nalr_fir, _ = enhancer.build(listener[\"audiogram_levels_l\"], listener[\"audiogram_cfs\"])\n",
    "out_l = enhancer.apply(nalr_fir, signal[:, 0])\n",
    "\n",
    "nalr_fir, _ = enhancer.build(listener[\"audiogram_levels_r\"], listener[\"audiogram_cfs\"])\n",
    "out_r = enhancer.apply(nalr_fir, signal[:, 1])\n",
    "\n",
    "plt.plot(out_l)"
   ],
   "outputs": [
    {
     "ename": "TypeError",
     "evalue": "NALR.build() takes 2 positional arguments but 3 were given",
     "output_type": "error",
     "traceback": [
      "\u001B[0;31m---------------------------------------------------------------------------\u001B[0m",
      "\u001B[0;31mTypeError\u001B[0m                                 Traceback (most recent call last)",
      "Cell \u001B[0;32mIn[14], line 3\u001B[0m\n\u001B[1;32m      1\u001B[0m \u001B[38;5;28;01mimport\u001B[39;00m \u001B[38;5;21;01mnumpy\u001B[39;00m \u001B[38;5;28;01mas\u001B[39;00m \u001B[38;5;21;01mnp\u001B[39;00m\n\u001B[0;32m----> 3\u001B[0m nalr_fir, _ \u001B[38;5;241m=\u001B[39m \u001B[43menhancer\u001B[49m\u001B[38;5;241;43m.\u001B[39;49m\u001B[43mbuild\u001B[49m\u001B[43m(\u001B[49m\u001B[43mlistener\u001B[49m\u001B[43m[\u001B[49m\u001B[38;5;124;43m\"\u001B[39;49m\u001B[38;5;124;43maudiogram_levels_l\u001B[39;49m\u001B[38;5;124;43m\"\u001B[39;49m\u001B[43m]\u001B[49m\u001B[43m,\u001B[49m\u001B[43m \u001B[49m\u001B[43mlistener\u001B[49m\u001B[43m[\u001B[49m\u001B[38;5;124;43m\"\u001B[39;49m\u001B[38;5;124;43maudiogram_cfs\u001B[39;49m\u001B[38;5;124;43m\"\u001B[39;49m\u001B[43m]\u001B[49m\u001B[43m)\u001B[49m\n\u001B[1;32m      4\u001B[0m out_l \u001B[38;5;241m=\u001B[39m enhancer\u001B[38;5;241m.\u001B[39mapply(nalr_fir, signal[:, \u001B[38;5;241m0\u001B[39m])\n\u001B[1;32m      6\u001B[0m nalr_fir, _ \u001B[38;5;241m=\u001B[39m enhancer\u001B[38;5;241m.\u001B[39mbuild(listener[\u001B[38;5;124m\"\u001B[39m\u001B[38;5;124maudiogram_levels_r\u001B[39m\u001B[38;5;124m\"\u001B[39m], listener[\u001B[38;5;124m\"\u001B[39m\u001B[38;5;124maudiogram_cfs\u001B[39m\u001B[38;5;124m\"\u001B[39m])\n",
      "\u001B[0;31mTypeError\u001B[0m: NALR.build() takes 2 positional arguments but 3 were given"
     ]
    }
   ],
   "execution_count": 14
  },
  {
   "cell_type": "markdown",
   "metadata": {
    "id": "uKMPXOO0_q02"
   },
   "source": [
    "Following this, slow AGC is applied and a clip detection pass is performed. A tanh function is applied to remove high frequency distortion components from cliipped samples and the files are converted back to 16-bit integer format for saving."
   ]
  },
  {
   "cell_type": "code",
   "metadata": {
    "id": "FQVSKaqw_q03",
    "ExecuteTime": {
     "end_time": "2024-05-30T10:08:00.402199Z",
     "start_time": "2024-05-30T10:08:00.354068Z"
    }
   },
   "source": [
    "out_l, _, _ = compressor.process(out_l)\n",
    "out_r, _, _ = compressor.process(out_r)\n",
    "\n",
    "enhanced_audio = np.stack([out_l, out_r], axis=1)\n",
    "\n",
    "plt.plot(enhanced_audio)"
   ],
   "outputs": [
    {
     "ename": "NameError",
     "evalue": "name 'out_l' is not defined",
     "output_type": "error",
     "traceback": [
      "\u001B[0;31m---------------------------------------------------------------------------\u001B[0m",
      "\u001B[0;31mNameError\u001B[0m                                 Traceback (most recent call last)",
      "Cell \u001B[0;32mIn[15], line 1\u001B[0m\n\u001B[0;32m----> 1\u001B[0m out_l, _, _ \u001B[38;5;241m=\u001B[39m compressor\u001B[38;5;241m.\u001B[39mprocess(\u001B[43mout_l\u001B[49m)\n\u001B[1;32m      2\u001B[0m out_r, _, _ \u001B[38;5;241m=\u001B[39m compressor\u001B[38;5;241m.\u001B[39mprocess(out_r)\n\u001B[1;32m      4\u001B[0m enhanced_audio \u001B[38;5;241m=\u001B[39m np\u001B[38;5;241m.\u001B[39mstack([out_l, out_r], axis\u001B[38;5;241m=\u001B[39m\u001B[38;5;241m1\u001B[39m)\n",
      "\u001B[0;31mNameError\u001B[0m: name 'out_l' is not defined"
     ]
    }
   ],
   "execution_count": 15
  },
  {
   "cell_type": "markdown",
   "metadata": {
    "id": "b5mhop1F_q03"
   },
   "source": [
    "Finally, the signals are placed through a tanh function which provides a soft-clipping to handle any transient segments that have not been dealt with by the ACG.\n",
    "\n",
    "The final signals are then converted back into 16-bit format."
   ]
  },
  {
   "cell_type": "code",
   "metadata": {
    "id": "qo5bzfP3_q03",
    "ExecuteTime": {
     "end_time": "2024-05-30T10:08:01.157338Z",
     "start_time": "2024-05-30T10:08:01.135383Z"
    }
   },
   "source": [
    "n_clipped = np.sum(np.abs(enhanced_audio) > 1.0)\n",
    "if n_clipped > 0:\n",
    "    print(f\"{n_clipped} samples clipped\")\n",
    "enhanced_audio = np.tanh(enhanced_audio)\n",
    "np.clip(enhanced_audio, -1.0, 1.0, out=enhanced_audio)\n",
    "\n",
    "plt.plot(enhanced_audio)"
   ],
   "outputs": [
    {
     "ename": "NameError",
     "evalue": "name 'enhanced_audio' is not defined",
     "output_type": "error",
     "traceback": [
      "\u001B[0;31m---------------------------------------------------------------------------\u001B[0m",
      "\u001B[0;31mNameError\u001B[0m                                 Traceback (most recent call last)",
      "Cell \u001B[0;32mIn[16], line 1\u001B[0m\n\u001B[0;32m----> 1\u001B[0m n_clipped \u001B[38;5;241m=\u001B[39m np\u001B[38;5;241m.\u001B[39msum(np\u001B[38;5;241m.\u001B[39mabs(\u001B[43menhanced_audio\u001B[49m) \u001B[38;5;241m>\u001B[39m \u001B[38;5;241m1.0\u001B[39m)\n\u001B[1;32m      2\u001B[0m \u001B[38;5;28;01mif\u001B[39;00m n_clipped \u001B[38;5;241m>\u001B[39m \u001B[38;5;241m0\u001B[39m:\n\u001B[1;32m      3\u001B[0m     \u001B[38;5;28mprint\u001B[39m(\u001B[38;5;124mf\u001B[39m\u001B[38;5;124m\"\u001B[39m\u001B[38;5;132;01m{\u001B[39;00mn_clipped\u001B[38;5;132;01m}\u001B[39;00m\u001B[38;5;124m samples clipped\u001B[39m\u001B[38;5;124m\"\u001B[39m)\n",
      "\u001B[0;31mNameError\u001B[0m: name 'enhanced_audio' is not defined"
     ]
    }
   ],
   "execution_count": 16
  },
  {
   "cell_type": "markdown",
   "metadata": {
    "id": "hrn8uLJA_q05"
   },
   "source": [
    "Note, processed signals will be submitted as 16-bit wav-file format, i.e. by first converting back to 16-bit integer format and then saving to file.\n",
    "\n",
    "```python\n",
    "signal_16 = (32768.0 * enhanced_audio).astype(np.int16)\n",
    "```\n",
    "\n",
    "The standard filename for the processed audio is constructed as\n",
    "\n",
    "```python\n",
    "filename = f\"{scene['scene']}_{listener['name']}_HA-output.wav\"\n",
    "```"
   ]
  },
  {
   "cell_type": "markdown",
   "metadata": {
    "id": "EYLajowXt191"
   },
   "source": [
    "## Evaluating outputs using HASPI\n",
    "\n",
    "---\n",
    "Enhanced scores can now be evaluated using the HASPI speech intelligibility prediction metric and compared to the unenhanced audio.\n",
    "\n",
    "HASPI scores are calculated using a 'better ear' approach where left and right signals are acalculated and the higher score used as the output.\n",
    "\n",
    "The 'better ear' haspi function (`haspi_v2_be`) is imported from <code>clarity.evaluator.haspi</code>.\n",
    "\n"
   ]
  },
  {
   "cell_type": "code",
   "metadata": {
    "id": "RPTop_bZ_q05",
    "ExecuteTime": {
     "end_time": "2024-05-30T10:08:03.780602Z",
     "start_time": "2024-05-30T10:08:03.588012Z"
    }
   },
   "source": [
    "from clarity.evaluator.haspi import haspi_v2_be"
   ],
   "outputs": [],
   "execution_count": 17
  },
  {
   "cell_type": "markdown",
   "metadata": {
    "id": "wzbQI4Y9_q05"
   },
   "source": [
    "HASPI is an intrusive metric and requires an uncorrupted reference signal. These are provided in the scenes audio data as files with the naming convention <code>SXXXX_target_CHX.wav</code>. CH1 is used as the reference transducer for this challenge. We load the file and convert to floating point as before. "
   ]
  },
  {
   "cell_type": "code",
   "metadata": {
    "id": "UtU6prPN_q06",
    "ExecuteTime": {
     "end_time": "2024-05-30T10:08:04.427852Z",
     "start_time": "2024-05-30T10:08:04.420594Z"
    }
   },
   "source": [
    "fs, reference = wavfile.read(\n",
    "    os.path.join(cfg.path.scenes_folder, f\"{scene_id}_target_CH1.wav\")\n",
    ")\n",
    "reference = reference / 32768.0"
   ],
   "outputs": [],
   "execution_count": 18
  },
  {
   "cell_type": "markdown",
   "metadata": {
    "id": "zOvGe6Bh_q06"
   },
   "source": [
    "We provide the function <code>haspi_v2_be</code> with the left and right references, the left and right signals, the sample rate and the audiogram information for the given listener. \n",
    "\n",
    "Below, we first compute the HASPI score for the unprocessed signal and then for the enhanced signal. We can compute the benefit of the processing by calculating the difference."
   ]
  },
  {
   "cell_type": "code",
   "metadata": {
    "id": "YmN0MlvruSMO",
    "ExecuteTime": {
     "end_time": "2024-05-30T10:08:05.612582Z",
     "start_time": "2024-05-30T10:08:05.525706Z"
    }
   },
   "source": [
    "sii_unprocessed = haspi_v2_be(\n",
    "    xl=reference[:, 0],\n",
    "    xr=reference[:, 1],\n",
    "    yl=signal[:, 0],\n",
    "    yr=signal[:, 1],\n",
    "    fs_signal=fs,\n",
    "    audiogram_l=listener[\"audiogram_levels_l\"],\n",
    "    audiogram_r=listener[\"audiogram_levels_r\"],\n",
    "    audiogram_cfs=listener[\"audiogram_cfs\"],\n",
    ")\n",
    "\n",
    "sii_enhanced = haspi_v2_be(\n",
    "    xl=reference[:, 0],\n",
    "    xr=reference[:, 1],\n",
    "    yl=enhanced_audio[:, 0],\n",
    "    yr=enhanced_audio[:, 1],\n",
    "    fs_signal=fs,\n",
    "    audiogram_l=listener[\"audiogram_levels_l\"],\n",
    "    audiogram_r=listener[\"audiogram_levels_r\"],\n",
    "    audiogram_cfs=listener[\"audiogram_cfs\"],\n",
    ")\n",
    "\n",
    "print(f\"Original audio HASPI score is {sii_unprocessed}\")\n",
    "\n",
    "print(f\"Enhanced audio HASPI score is {sii_enhanced}\")\n",
    "\n",
    "print(f\"Improvement from processing is {sii_enhanced - sii_unprocessed}\")"
   ],
   "outputs": [
    {
     "ename": "TypeError",
     "evalue": "haspi_v2_be() got an unexpected keyword argument 'xl'",
     "output_type": "error",
     "traceback": [
      "\u001B[0;31m---------------------------------------------------------------------------\u001B[0m",
      "\u001B[0;31mTypeError\u001B[0m                                 Traceback (most recent call last)",
      "Cell \u001B[0;32mIn[19], line 1\u001B[0m\n\u001B[0;32m----> 1\u001B[0m sii_unprocessed \u001B[38;5;241m=\u001B[39m \u001B[43mhaspi_v2_be\u001B[49m\u001B[43m(\u001B[49m\n\u001B[1;32m      2\u001B[0m \u001B[43m    \u001B[49m\u001B[43mxl\u001B[49m\u001B[38;5;241;43m=\u001B[39;49m\u001B[43mreference\u001B[49m\u001B[43m[\u001B[49m\u001B[43m:\u001B[49m\u001B[43m,\u001B[49m\u001B[43m \u001B[49m\u001B[38;5;241;43m0\u001B[39;49m\u001B[43m]\u001B[49m\u001B[43m,\u001B[49m\n\u001B[1;32m      3\u001B[0m \u001B[43m    \u001B[49m\u001B[43mxr\u001B[49m\u001B[38;5;241;43m=\u001B[39;49m\u001B[43mreference\u001B[49m\u001B[43m[\u001B[49m\u001B[43m:\u001B[49m\u001B[43m,\u001B[49m\u001B[43m \u001B[49m\u001B[38;5;241;43m1\u001B[39;49m\u001B[43m]\u001B[49m\u001B[43m,\u001B[49m\n\u001B[1;32m      4\u001B[0m \u001B[43m    \u001B[49m\u001B[43myl\u001B[49m\u001B[38;5;241;43m=\u001B[39;49m\u001B[43msignal\u001B[49m\u001B[43m[\u001B[49m\u001B[43m:\u001B[49m\u001B[43m,\u001B[49m\u001B[43m \u001B[49m\u001B[38;5;241;43m0\u001B[39;49m\u001B[43m]\u001B[49m\u001B[43m,\u001B[49m\n\u001B[1;32m      5\u001B[0m \u001B[43m    \u001B[49m\u001B[43myr\u001B[49m\u001B[38;5;241;43m=\u001B[39;49m\u001B[43msignal\u001B[49m\u001B[43m[\u001B[49m\u001B[43m:\u001B[49m\u001B[43m,\u001B[49m\u001B[43m \u001B[49m\u001B[38;5;241;43m1\u001B[39;49m\u001B[43m]\u001B[49m\u001B[43m,\u001B[49m\n\u001B[1;32m      6\u001B[0m \u001B[43m    \u001B[49m\u001B[43mfs_signal\u001B[49m\u001B[38;5;241;43m=\u001B[39;49m\u001B[43mfs\u001B[49m\u001B[43m,\u001B[49m\n\u001B[1;32m      7\u001B[0m \u001B[43m    \u001B[49m\u001B[43maudiogram_l\u001B[49m\u001B[38;5;241;43m=\u001B[39;49m\u001B[43mlistener\u001B[49m\u001B[43m[\u001B[49m\u001B[38;5;124;43m\"\u001B[39;49m\u001B[38;5;124;43maudiogram_levels_l\u001B[39;49m\u001B[38;5;124;43m\"\u001B[39;49m\u001B[43m]\u001B[49m\u001B[43m,\u001B[49m\n\u001B[1;32m      8\u001B[0m \u001B[43m    \u001B[49m\u001B[43maudiogram_r\u001B[49m\u001B[38;5;241;43m=\u001B[39;49m\u001B[43mlistener\u001B[49m\u001B[43m[\u001B[49m\u001B[38;5;124;43m\"\u001B[39;49m\u001B[38;5;124;43maudiogram_levels_r\u001B[39;49m\u001B[38;5;124;43m\"\u001B[39;49m\u001B[43m]\u001B[49m\u001B[43m,\u001B[49m\n\u001B[1;32m      9\u001B[0m \u001B[43m    \u001B[49m\u001B[43maudiogram_cfs\u001B[49m\u001B[38;5;241;43m=\u001B[39;49m\u001B[43mlistener\u001B[49m\u001B[43m[\u001B[49m\u001B[38;5;124;43m\"\u001B[39;49m\u001B[38;5;124;43maudiogram_cfs\u001B[39;49m\u001B[38;5;124;43m\"\u001B[39;49m\u001B[43m]\u001B[49m\u001B[43m,\u001B[49m\n\u001B[1;32m     10\u001B[0m \u001B[43m)\u001B[49m\n\u001B[1;32m     12\u001B[0m sii_enhanced \u001B[38;5;241m=\u001B[39m haspi_v2_be(\n\u001B[1;32m     13\u001B[0m     xl\u001B[38;5;241m=\u001B[39mreference[:, \u001B[38;5;241m0\u001B[39m],\n\u001B[1;32m     14\u001B[0m     xr\u001B[38;5;241m=\u001B[39mreference[:, \u001B[38;5;241m1\u001B[39m],\n\u001B[0;32m   (...)\u001B[0m\n\u001B[1;32m     20\u001B[0m     audiogram_cfs\u001B[38;5;241m=\u001B[39mlistener[\u001B[38;5;124m\"\u001B[39m\u001B[38;5;124maudiogram_cfs\u001B[39m\u001B[38;5;124m\"\u001B[39m],\n\u001B[1;32m     21\u001B[0m )\n\u001B[1;32m     23\u001B[0m \u001B[38;5;28mprint\u001B[39m(\u001B[38;5;124mf\u001B[39m\u001B[38;5;124m\"\u001B[39m\u001B[38;5;124mOriginal audio HASPI score is \u001B[39m\u001B[38;5;132;01m{\u001B[39;00msii_unprocessed\u001B[38;5;132;01m}\u001B[39;00m\u001B[38;5;124m\"\u001B[39m)\n",
      "\u001B[0;31mTypeError\u001B[0m: haspi_v2_be() got an unexpected keyword argument 'xl'"
     ]
    }
   ],
   "execution_count": 19
  },
  {
   "cell_type": "markdown",
   "metadata": {
    "id": "5_ngXkbE_q07"
   },
   "source": [
    "For the scene and listener we have selected the original HASPI score should be about `0.081` and the score after enhancement should be about `0.231`. Note, HASPI uses internal masking noise and because we have not set the random seed, scores may vary a little from run to run - the variation should not be more than `+-0.0005` and often much less. \n",
    "\n",
    "Note also that the 'enhanced' score is still very low - this is not surprising given that the processing is only amplying amplification and compression. There is no noise cancellation, no multichannel processing, etc, etc. The purpose of the enhancement challenge is to add these components in order to try and improve on this baseline.\n",
    "\n",
    "Good luck!"
   ]
  }
 ],
 "metadata": {
  "colab": {
   "collapsed_sections": [],
   "name": "Baseline_HASPI_scores.ipynb",
   "provenance": []
  },
  "interpreter": {
   "hash": "26a964e4f4fac737099b8cac5ce06700d7df701944a9ffdf70bdbb694454ecd1"
  },
  "kernelspec": {
   "display_name": "Python 3.7.13 64-bit ('3.7.13')",
   "language": "python",
   "name": "python3"
  },
  "language_info": {
   "codemirror_mode": {
    "name": "ipython",
    "version": 3
   },
   "file_extension": ".py",
   "mimetype": "text/x-python",
   "name": "python",
   "nbconvert_exporter": "python",
   "pygments_lexer": "ipython3",
   "version": "3.7.13"
  }
 },
 "nbformat": 4,
 "nbformat_minor": 0
}
